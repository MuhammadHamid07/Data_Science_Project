{
 "cells": [
  {
   "cell_type": "markdown",
   "id": "e886396b-b794-4500-bd2c-bce644f35825",
   "metadata": {},
   "source": [
    "## Exploring the Bitcoin Cryptocurrency Market"
   ]
  },
  {
   "cell_type": "markdown",
   "id": "470cccac-ef20-42fd-bfbb-2f08628c6f9c",
   "metadata": {},
   "source": [
    "Explore the market capitalization of Bitcoin and other cryptocurrencies."
   ]
  },
  {
   "cell_type": "markdown",
   "id": "97307a0e-ef08-4f4d-9245-03c298f44fa3",
   "metadata": {},
   "source": [
    "#### Project Description"
   ]
  },
  {
   "cell_type": "markdown",
   "id": "8da6ded0-7405-41c2-a1e7-052a08ee5ada",
   "metadata": {},
   "source": [
    "To better understand the growth and impact of Bitcoin and other cryptocurrencies you will, in this project, explore the market capitalization of different cryptocurrencies."
   ]
  },
  {
   "cell_type": "markdown",
   "id": "353f6429-225d-4314-876d-ccde1e39ad8f",
   "metadata": {},
   "source": [
    "<b>Warning:</b> The cryptocurrency market is exceptionally volatile, and any money you put in might disappear into thin air. Never invest money you can't afford to lose."
   ]
  },
  {
   "cell_type": "markdown",
   "id": "69b39c79-d4a8-48e0-9633-525a268d16b0",
   "metadata": {},
   "source": [
    "### Project Tasks"
   ]
  },
  {
   "cell_type": "markdown",
   "id": "4aaebbba-edfc-4c73-a481-b00cf3c6d22f",
   "metadata": {},
   "source": [
    "1. Bitcoin and Cryptocurrencies: Full dataset, filtering, and reproducibility\n",
    "2. Discard the cryptocurrencies without a market capitalization\n",
    "3. How big is Bitcoin compared with the rest of the cryptocurrencies?\n",
    "4. Making the plot easier to read and more informative\n",
    "5. What is going on?! Volatility in cryptocurrencies\n",
    "6. Well, we can already see that things are *a bit* crazy\n",
    "7. Ok, those are... interesting. Let's check the weekly Series too.\n",
    "8. How small is small?\n",
    "9. Most coins are tiny"
   ]
  },
  {
   "cell_type": "markdown",
   "id": "0a2f8ac4-2bf9-4a1d-9649-40a33ea5abaa",
   "metadata": {
    "tags": []
   },
   "source": [
    "## 1. Bitcoin and Cryptocurrencies: Full dataset, filtering, and reproducibility\n",
    "<p>Since the <a href=\"https://newfronttest.bitcoin.com/bitcoin.pdf\">launch of Bitcoin in 2008</a>, hundreds of similar projects based on the blockchain technology have emerged. We call these cryptocurrencies (also coins or cryptos in the Internet slang). Some are extremely valuable nowadays, and others may have the potential to become extremely valuable in the future<sup>1</sup>. In fact, on the 6th of December of 2017, Bitcoin has a <a href=\"https://en.wikipedia.org/wiki/Market_capitalization\">market capitalization</a> above $200 billion. </p>\n",
    "<p"
   ]
  },
  {
   "cell_type": "markdown",
   "id": "ef1aa17e-fc58-444b-8a99-3d32f7eb80c3",
   "metadata": {},
   "source": [
    "<center>\n",
    "<img src=\"datasets//bitcoint_market_cap_2017.png\" style=\"width:500px\"> <br> \n",
    "<em>The astonishing increase of Bitcoin market capitalization in 2017.</em></center>"
   ]
  },
  {
   "cell_type": "markdown",
   "id": "d38b0132-9adb-4d5c-9e43-44471817a128",
   "metadata": {},
   "source": [
    "<p>*<sup>1</sup> <strong>WARNING</strong>: The cryptocurrency market is exceptionally volatile<sup>2</sup> and any money you put in might disappear into thin air.  Cryptocurrencies mentioned here <strong>might be scams</strong> similar to <a href=\"https://en.wikipedia.org/wiki/Ponzi_scheme\">Ponzi Schemes</a> or have many other issues (overvaluation, technical, etc.). <strong>Please do not mistake this for investment advice</strong>. *</p>\n",
    "<p><em><sup>2</sup> <strong>Update on March 2020</strong>: Well, it turned out to be volatile indeed :D</em></p>\n",
    "<p>That said, let's get to business. We will start with a CSV we conveniently downloaded on the 6th of December of 2017 using the coinmarketcap API (NOTE: The public API went private in 2020 and is no longer available) named <code>datasets/coinmarketcap_06122017.csv</code>. </p>"
   ]
  },
  {
   "cell_type": "code",
   "execution_count": null,
   "id": "843612bc-7282-4d09-91b6-7bd8d773503a",
   "metadata": {},
   "outputs": [],
   "source": [
    "# Importing pandas\n",
    "import pandas as pd\n",
    "\n",
    "# Importing matplotlib and setting aesthetics for plotting later.\n",
    "import matplotlib.pyplot as plt\n",
    "\n",
    "# Reading datasets/coinmarketcap_06122017.csv into pandas\n",
    "dec6 = ...\n",
    "\n",
    "# Selecting the 'id' and the 'market_cap_usd' columns\n",
    "market_cap_raw = ...\n",
    "\n",
    "# Counting the number of values\n",
    "# ... YOUR CODE FOR TASK 2 ..."
   ]
  },
  {
   "cell_type": "markdown",
   "id": "0ee5bd28-b6ee-4cd7-af1e-cf85a0fb5efd",
   "metadata": {},
   "source": [
    "## 2. Discard the cryptocurrencies without a market capitalization\n",
    "<p>Why do the <code>count()</code> for <code>id</code> and <code>market_cap_usd</code> differ above? It is because some cryptocurrencies listed in coinmarketcap.com have no known market capitalization, this is represented by <code>NaN</code> in the data, and <code>NaN</code>s are not counted by <code>count()</code>. These cryptocurrencies are of little interest to us in this analysis, so they are safe to remove.</p>"
   ]
  },
  {
   "cell_type": "code",
   "execution_count": null,
   "id": "09a0d915-56df-42ad-847a-dcc4d01aebc5",
   "metadata": {},
   "outputs": [],
   "source": [
    "# Filtering out rows without a market capitalization\n",
    "cap = market_cap_raw.query(...)\n",
    "\n",
    "# Counting the number of values again\n",
    "# ... YOUR CODE FOR TASK 3 ..."
   ]
  },
  {
   "cell_type": "markdown",
   "id": "93c86f3d-eb85-4ceb-9ada-7fbed88d9436",
   "metadata": {},
   "source": [
    "## 3. How big is Bitcoin compared with the rest of the cryptocurrencies?\n",
    "<p>At the time of writing, Bitcoin is under serious competition from other projects, but it is still dominant in market capitalization. Let's plot the market capitalization for the top 10 coins as a barplot to better visualize this.</p>"
   ]
  },
  {
   "cell_type": "code",
   "execution_count": null,
   "id": "942e17f1-84c8-481f-baf0-6d156f0587d1",
   "metadata": {},
   "outputs": [],
   "source": [
    "#Declaring these now for later use in the plots\n",
    "TOP_CAP_TITLE = 'Top 10 market capitalization'\n",
    "TOP_CAP_YLABEL = '% of total cap'\n",
    "\n",
    "# Selecting the first 10 rows and setting the index\n",
    "cap10 = ...\n",
    "\n",
    "# Calculating market_cap_perc\n",
    "cap10 = ...\n",
    "\n",
    "# Plotting the barplot with the title defined above \n",
    "ax = ...\n",
    "\n",
    "# Annotating the y axis with the label defined above\n",
    "# ... YOUR CODE FOR TASK 4 ..."
   ]
  },
  {
   "cell_type": "markdown",
   "id": "96e445fd-89da-4fa8-a601-ffce2994ab1a",
   "metadata": {},
   "source": [
    "## 4. Making the plot easier to read and more informative\n",
    "<p>While the plot above is informative enough, it can be improved. Bitcoin is too big, and the other coins are hard to distinguish because of this. Instead of the percentage, let's use a log<sup>10</sup> scale of the \"raw\" capitalization. Plus, let's use color to group similar coins and make the plot more informative<sup>1</sup>. </p>\n",
    "<p>For the colors rationale: bitcoin-cash and bitcoin-gold are forks of the bitcoin <a href=\"https://en.wikipedia.org/wiki/Blockchain\">blockchain</a><sup>2</sup>. Ethereum and Cardano both offer Turing Complete <a href=\"https://en.wikipedia.org/wiki/Smart_contract\">smart contracts</a>. Iota and Ripple are not minable. Dash, Litecoin, and Monero get their own color.</p>\n",
    "<p><sup>1</sup> <em>This coloring is a simplification. There are more differences and similarities that are not being represented here.</em></p>\n",
    "<p><sup>2</sup> <em>The bitcoin forks are actually <strong>very</strong> different, but it is out of scope to talk about them here. Please see the warning above and do your own research.</em></p>"
   ]
  },
  {
   "cell_type": "code",
   "execution_count": null,
   "id": "5e840823-e22b-4f91-8baf-b7d58c482084",
   "metadata": {},
   "outputs": [],
   "source": [
    "# Colors for the bar plot\n",
    "COLORS = ['orange', 'green', 'orange', 'cyan', 'cyan', 'blue', 'silver', 'orange', 'red', 'green']\n",
    "\n",
    "# Plotting market_cap_usd as before but adding the colors and scaling the y-axis  \n",
    "ax = ...\n",
    "\n",
    "# Annotating the y axis with 'USD'\n",
    "# ... YOUR CODE FOR TASK 5 ...\n",
    "\n",
    "# Final touch! Removing the xlabel as it is not very informative\n",
    "# ... YOUR CODE FOR TASK 5 ..."
   ]
  },
  {
   "cell_type": "markdown",
   "id": "ddad35e7-6af2-4ddb-9750-c897535ce42f",
   "metadata": {},
   "source": [
    "## 5. What is going on?! Volatility in cryptocurrencies\n",
    "<p>The cryptocurrencies market has been spectacularly volatile since the first exchange opened. This notebook didn't start with a big, bold warning for nothing. Let's explore this volatility a bit more! We will begin by selecting and plotting the 24 hours and 7 days percentage change, which we already have available.</p>"
   ]
  },
  {
   "cell_type": "code",
   "execution_count": null,
   "id": "54159269-dbd5-4a81-a7bd-f5b5b0d3a94d",
   "metadata": {},
   "outputs": [],
   "source": [
    "# Selecting the id, percent_change_24h and percent_change_7d columns\n",
    "volatility = ...\n",
    "\n",
    "# Setting the index to 'id' and dropping all NaN rows\n",
    "volatility = ...\n",
    "\n",
    "# Sorting the DataFrame by percent_change_24h in ascending order\n",
    "volatility = ...\n",
    "\n",
    "# Checking the first few rows\n",
    "# ... YOUR CODE FOR TASK 6 ..."
   ]
  },
  {
   "cell_type": "markdown",
   "id": "9bf6c510-9766-4b20-8dd9-410691dc4ada",
   "metadata": {},
   "source": [
    "## 6. Well, we can already see that things are *a bit* crazy\n",
    "<p>It seems you can lose a lot of money quickly on cryptocurrencies. Let's plot the top 10 biggest gainers and top 10 losers in market capitalization.</p>"
   ]
  },
  {
   "cell_type": "code",
   "execution_count": null,
   "id": "b3b2988c-1c77-4fa5-a998-3be8d1d92359",
   "metadata": {},
   "outputs": [],
   "source": [
    "#Defining a function with 2 parameters, the series to plot and the title\n",
    "def top10_subplot(volatility_series, title):\n",
    "    # Making the subplot and the figure for two side by side plots\n",
    "    fig, axes = plt.subplots(nrows=1, ncols=2, figsize=(10, 6))\n",
    "    \n",
    "    # Plotting with pandas the barchart for the top 10 losers\n",
    "    ax = ...\n",
    "    \n",
    "    # Setting the figure's main title to the text passed as parameter\n",
    "    # ... YOUR CODE FOR TASK 7 ...\n",
    "    \n",
    "    # Setting the ylabel to '% change'\n",
    "    # ... YOUR CODE FOR TASK 7 ...\n",
    "    \n",
    "    # Same as above, but for the top 10 winners\n",
    "    ax = ...\n",
    "    \n",
    "    # Returning this for good practice, might use later\n",
    "    return fig, ax\n",
    "\n",
    "DTITLE = \"24 hours top losers and winners\"\n",
    "\n",
    "# Calling the function above with the 24 hours period series and title DTITLE  \n",
    "fig, ax = ..."
   ]
  },
  {
   "cell_type": "markdown",
   "id": "17c36002-9f6d-4cd6-a2de-dda4bf1d7ecb",
   "metadata": {},
   "source": [
    "## 7. Ok, those are... interesting. Let's check the weekly Series too.\n",
    "<p>800% daily increase?! Why are we doing this tutorial and not buying random coins?<sup>1</sup></p>\n",
    "<p>After calming down, let's reuse the function defined above to see what is going weekly instead of daily.</p>\n",
    "<p><em><sup>1</sup> Please take a moment to understand the implications of the red plots on how much value some cryptocurrencies lose in such short periods of time</em></p>"
   ]
  },
  {
   "cell_type": "code",
   "execution_count": null,
   "id": "86068e73-a68b-4515-bdbb-8118e6bdbdba",
   "metadata": {},
   "outputs": [],
   "source": [
    "# Sorting in ascending order\n",
    "volatility7d = ...\n",
    "\n",
    "WTITLE = \"Weekly top losers and winners\"\n",
    "\n",
    "# Calling the top10_subplot function\n",
    "fig, ax = ..."
   ]
  },
  {
   "cell_type": "markdown",
   "id": "2dfbb0fd-9804-4675-9c97-3e9edd14ea81",
   "metadata": {},
   "source": [
    "## 8. How small is small?\n",
    "<p>The names of the cryptocurrencies above are quite unknown, and there is a considerable fluctuation between the 1 and 7 days percentage changes. As with stocks, and many other financial products, the smaller the capitalization, the bigger the risk and reward. Smaller cryptocurrencies are less stable projects in general, and therefore even riskier investments than the bigger ones<sup>1</sup>. Let's classify our dataset based on Investopedia's capitalization <a href=\"https://www.investopedia.com/video/play/large-cap/\">definitions</a> for company stocks. </p>\n",
    "<p><sup>1</sup> <em>Cryptocurrencies are a new asset class, so they are not directly comparable to stocks. Furthermore, there are no limits set in stone for what a \"small\" or \"large\" stock is. Finally, some investors argue that bitcoin is similar to gold, this would make them more comparable to a <a href=\"https://www.investopedia.com/terms/c/commodity.asp\">commodity</a> instead.</em></p>"
   ]
  },
  {
   "cell_type": "code",
   "execution_count": null,
   "id": "216a776a-dcba-4870-97f3-9536c559c9af",
   "metadata": {},
   "outputs": [],
   "source": [
    "# Selecting everything bigger than 10 billion \n",
    "largecaps = ...\n",
    "\n",
    "# Printing out largecaps\n",
    "# ... YOUR CODE FOR TASK 9 ..."
   ]
  },
  {
   "cell_type": "markdown",
   "id": "559d8417-3ffa-403c-86a5-48c6e338c5b3",
   "metadata": {},
   "source": [
    "## 9. Most coins are tiny\n",
    "<p>Note that many coins are not comparable to large companies in market cap, so let's divert from the original Investopedia definition by merging categories.</p>\n",
    "<p><em>This is all for now. Thanks for completing this project!</em></p>"
   ]
  },
  {
   "cell_type": "code",
   "execution_count": null,
   "id": "ee44e7fb-c72a-49de-a3ae-18d9ef5aed25",
   "metadata": {},
   "outputs": [],
   "source": [
    "# Making a nice function for counting different marketcaps from the\n",
    "# \"cap\" DataFrame. Returns an int.\n",
    "# INSTRUCTORS NOTE: Since you made it to the end, consider it a gift :D\n",
    "def capcount(query_string):\n",
    "    return cap.query(query_string).count().id\n",
    "\n",
    "# Labels for the plot\n",
    "LABELS = [\"biggish\", \"micro\", \"nano\"]\n",
    "\n",
    "# Using capcount count the biggish cryptos\n",
    "biggish = ...\n",
    "\n",
    "# Same as above for micro ...\n",
    "micro = ...\n",
    "\n",
    "# ... and for nano\n",
    "nano =  ...\n",
    "\n",
    "# Making a list with the 3 counts\n",
    "values = ...\n",
    "\n",
    "# Plotting them with matplotlib \n",
    "# ... YOUR CODE FOR TASK 10 ..."
   ]
  },
  {
   "cell_type": "code",
   "execution_count": null,
   "id": "c71edded-99c5-4178-9aa7-b77fedaf816d",
   "metadata": {},
   "outputs": [],
   "source": []
  },
  {
   "cell_type": "markdown",
   "id": "8434b72e-3a43-41ac-8864-23ba75ddc672",
   "metadata": {},
   "source": [
    "### Happy Learning :)"
   ]
  }
 ],
 "metadata": {
  "kernelspec": {
   "display_name": "Python 3 (ipykernel)",
   "language": "python",
   "name": "python3"
  },
  "language_info": {
   "codemirror_mode": {
    "name": "ipython",
    "version": 3
   },
   "file_extension": ".py",
   "mimetype": "text/x-python",
   "name": "python",
   "nbconvert_exporter": "python",
   "pygments_lexer": "ipython3",
   "version": "3.9.12"
  }
 },
 "nbformat": 4,
 "nbformat_minor": 5
}
