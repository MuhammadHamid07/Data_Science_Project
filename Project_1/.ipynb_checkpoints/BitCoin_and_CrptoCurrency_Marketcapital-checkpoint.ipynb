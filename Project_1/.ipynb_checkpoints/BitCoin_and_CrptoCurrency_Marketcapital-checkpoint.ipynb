{
 "cells": [
  {
   "cell_type": "markdown",
   "id": "e886396b-b794-4500-bd2c-bce644f35825",
   "metadata": {},
   "source": [
    "## Exploring the Bitcoin Cryptocurrency Market"
   ]
  },
  {
   "cell_type": "markdown",
   "id": "470cccac-ef20-42fd-bfbb-2f08628c6f9c",
   "metadata": {},
   "source": [
    "Explore the market capitalization of Bitcoin and other cryptocurrencies."
   ]
  },
  {
   "cell_type": "markdown",
   "id": "97307a0e-ef08-4f4d-9245-03c298f44fa3",
   "metadata": {},
   "source": [
    "#### Project Description"
   ]
  },
  {
   "cell_type": "markdown",
   "id": "8da6ded0-7405-41c2-a1e7-052a08ee5ada",
   "metadata": {},
   "source": [
    "To better understand the growth and impact of Bitcoin and other cryptocurrencies you will, in this project, explore the market capitalization of different cryptocurrencies."
   ]
  },
  {
   "cell_type": "markdown",
   "id": "353f6429-225d-4314-876d-ccde1e39ad8f",
   "metadata": {},
   "source": [
    "<b>Warning:</b> The cryptocurrency market is exceptionally volatile, and any money you put in might disappear into thin air. Never invest money you can't afford to lose."
   ]
  },
  {
   "cell_type": "markdown",
   "id": "69b39c79-d4a8-48e0-9633-525a268d16b0",
   "metadata": {},
   "source": [
    "### Project Tasks"
   ]
  },
  {
   "cell_type": "markdown",
   "id": "4aaebbba-edfc-4c73-a481-b00cf3c6d22f",
   "metadata": {},
   "source": [
    "1. Bitcoin and Cryptocurrencies: Full dataset, filtering, and reproducibility\n",
    "2. Discard the cryptocurrencies without a market capitalization\n",
    "3. How big is Bitcoin compared with the rest of the cryptocurrencies?\n",
    "4. Making the plot easier to read and more informative\n",
    "5. What is going on?! Volatility in cryptocurrencies\n",
    "6. Well, we can already see that things are *a bit* crazy\n",
    "7. Ok, those are... interesting. Let's check the weekly Series too.\n",
    "8. How small is small?\n",
    "9. Most coins are tiny"
   ]
  },
  {
   "cell_type": "markdown",
   "id": "0a2f8ac4-2bf9-4a1d-9649-40a33ea5abaa",
   "metadata": {
    "tags": []
   },
   "source": [
    "## 1. Bitcoin and Cryptocurrencies: Full dataset, filtering, and reproducibility\n",
    "<p>Since the <a href=\"https://newfronttest.bitcoin.com/bitcoin.pdf\">launch of Bitcoin in 2008</a>, hundreds of similar projects based on the blockchain technology have emerged. We call these cryptocurrencies (also coins or cryptos in the Internet slang). Some are extremely valuable nowadays, and others may have the potential to become extremely valuable in the future<sup>1</sup>. In fact, on the 6th of December of 2017, Bitcoin has a <a href=\"https://en.wikipedia.org/wiki/Market_capitalization\">market capitalization</a> above $200 billion. </p>\n",
    "<p"
   ]
  },
  {
   "cell_type": "markdown",
   "id": "ef1aa17e-fc58-444b-8a99-3d32f7eb80c3",
   "metadata": {},
   "source": [
    "<center>\n",
    "<img src=\"datasets//bitcoint_market_cap_2017.png\" style=\"width:500px\"> <br> \n",
    "<em>The astonishing increase of Bitcoin market capitalization in 2017.</em></center>"
   ]
  },
  {
   "cell_type": "markdown",
   "id": "d38b0132-9adb-4d5c-9e43-44471817a128",
   "metadata": {},
   "source": [
    "<p>*<sup>1</sup> <strong>WARNING</strong>: The cryptocurrency market is exceptionally volatile<sup>2</sup> and any money you put in might disappear into thin air.  Cryptocurrencies mentioned here <strong>might be scams</strong> similar to <a href=\"https://en.wikipedia.org/wiki/Ponzi_scheme\">Ponzi Schemes</a> or have many other issues (overvaluation, technical, etc.). <strong>Please do not mistake this for investment advice</strong>. *</p>\n",
    "<p><em><sup>2</sup> <strong>Update on March 2020</strong>: Well, it turned out to be volatile indeed :D</em></p>\n",
    "<p>That said, let's get to business. We will start with a CSV we conveniently downloaded on the 6th of December of 2017 using the coinmarketcap API (NOTE: The public API went private in 2020 and is no longer available) named <code>datasets/coinmarketcap_06122017.csv</code>. </p>"
   ]
  },
  {
   "cell_type": "code",
   "execution_count": 1,
   "id": "843612bc-7282-4d09-91b6-7bd8d773503a",
   "metadata": {},
   "outputs": [],
   "source": [
    "# Importing pandas\n",
    "import pandas as pd\n",
    "\n",
    "# Importing matplotlib and setting aesthetics for plotting later.\n",
    "import matplotlib.pyplot as plt\n",
    "\n",
    "#  Importing Numpy\n",
    "import numpy as np"
   ]
  },
  {
   "cell_type": "code",
   "execution_count": 2,
   "id": "853cc431-3a57-4d65-99f2-7083d4c37fb7",
   "metadata": {},
   "outputs": [],
   "source": [
    "# Reading datasets/coinmarketcap_06122017.csv into pandas\n",
    "dec6 = pd.read_csv('datasets/coinmarketcap_06122017.csv')"
   ]
  },
  {
   "cell_type": "code",
   "execution_count": 3,
   "id": "b0ae6877-ed3c-480c-863e-8bb66a62edd3",
   "metadata": {},
   "outputs": [
    {
     "data": {
      "text/html": [
       "<div>\n",
       "<style scoped>\n",
       "    .dataframe tbody tr th:only-of-type {\n",
       "        vertical-align: middle;\n",
       "    }\n",
       "\n",
       "    .dataframe tbody tr th {\n",
       "        vertical-align: top;\n",
       "    }\n",
       "\n",
       "    .dataframe thead th {\n",
       "        text-align: right;\n",
       "    }\n",
       "</style>\n",
       "<table border=\"1\" class=\"dataframe\">\n",
       "  <thead>\n",
       "    <tr style=\"text-align: right;\">\n",
       "      <th></th>\n",
       "      <th>Unnamed: 0</th>\n",
       "      <th>24h_volume_usd</th>\n",
       "      <th>available_supply</th>\n",
       "      <th>id</th>\n",
       "      <th>last_updated</th>\n",
       "      <th>market_cap_usd</th>\n",
       "      <th>max_supply</th>\n",
       "      <th>name</th>\n",
       "      <th>percent_change_1h</th>\n",
       "      <th>percent_change_24h</th>\n",
       "      <th>percent_change_7d</th>\n",
       "      <th>price_btc</th>\n",
       "      <th>price_usd</th>\n",
       "      <th>rank</th>\n",
       "      <th>symbol</th>\n",
       "      <th>total_supply</th>\n",
       "    </tr>\n",
       "  </thead>\n",
       "  <tbody>\n",
       "    <tr>\n",
       "      <th>0</th>\n",
       "      <td>0</td>\n",
       "      <td>9.007640e+09</td>\n",
       "      <td>1.672352e+07</td>\n",
       "      <td>bitcoin</td>\n",
       "      <td>1512549554</td>\n",
       "      <td>2.130493e+11</td>\n",
       "      <td>2.100000e+07</td>\n",
       "      <td>Bitcoin</td>\n",
       "      <td>0.12</td>\n",
       "      <td>7.33</td>\n",
       "      <td>17.45</td>\n",
       "      <td>1.000000e+00</td>\n",
       "      <td>12739.500000</td>\n",
       "      <td>1</td>\n",
       "      <td>BTC</td>\n",
       "      <td>1.672352e+07</td>\n",
       "    </tr>\n",
       "    <tr>\n",
       "      <th>1</th>\n",
       "      <td>1</td>\n",
       "      <td>1.551330e+09</td>\n",
       "      <td>9.616537e+07</td>\n",
       "      <td>ethereum</td>\n",
       "      <td>1512549553</td>\n",
       "      <td>4.352945e+10</td>\n",
       "      <td>NaN</td>\n",
       "      <td>Ethereum</td>\n",
       "      <td>-0.18</td>\n",
       "      <td>-3.93</td>\n",
       "      <td>-7.33</td>\n",
       "      <td>3.617670e-02</td>\n",
       "      <td>452.652000</td>\n",
       "      <td>2</td>\n",
       "      <td>ETH</td>\n",
       "      <td>9.616537e+07</td>\n",
       "    </tr>\n",
       "    <tr>\n",
       "      <th>2</th>\n",
       "      <td>2</td>\n",
       "      <td>1.111350e+09</td>\n",
       "      <td>1.684044e+07</td>\n",
       "      <td>bitcoin-cash</td>\n",
       "      <td>1512549578</td>\n",
       "      <td>2.529585e+10</td>\n",
       "      <td>2.100000e+07</td>\n",
       "      <td>Bitcoin Cash</td>\n",
       "      <td>1.65</td>\n",
       "      <td>-5.51</td>\n",
       "      <td>-4.75</td>\n",
       "      <td>1.200500e-01</td>\n",
       "      <td>1502.090000</td>\n",
       "      <td>3</td>\n",
       "      <td>BCH</td>\n",
       "      <td>1.684044e+07</td>\n",
       "    </tr>\n",
       "    <tr>\n",
       "      <th>3</th>\n",
       "      <td>3</td>\n",
       "      <td>2.936090e+09</td>\n",
       "      <td>2.779530e+09</td>\n",
       "      <td>iota</td>\n",
       "      <td>1512549571</td>\n",
       "      <td>1.475225e+10</td>\n",
       "      <td>2.779530e+09</td>\n",
       "      <td>IOTA</td>\n",
       "      <td>-2.38</td>\n",
       "      <td>83.35</td>\n",
       "      <td>255.82</td>\n",
       "      <td>4.241800e-04</td>\n",
       "      <td>5.307460</td>\n",
       "      <td>4</td>\n",
       "      <td>MIOTA</td>\n",
       "      <td>2.779530e+09</td>\n",
       "    </tr>\n",
       "    <tr>\n",
       "      <th>4</th>\n",
       "      <td>4</td>\n",
       "      <td>2.315050e+08</td>\n",
       "      <td>3.873915e+10</td>\n",
       "      <td>ripple</td>\n",
       "      <td>1512549541</td>\n",
       "      <td>9.365343e+09</td>\n",
       "      <td>1.000000e+11</td>\n",
       "      <td>Ripple</td>\n",
       "      <td>0.56</td>\n",
       "      <td>-3.70</td>\n",
       "      <td>-14.79</td>\n",
       "      <td>1.932000e-05</td>\n",
       "      <td>0.241754</td>\n",
       "      <td>5</td>\n",
       "      <td>XRP</td>\n",
       "      <td>9.999309e+10</td>\n",
       "    </tr>\n",
       "    <tr>\n",
       "      <th>...</th>\n",
       "      <td>...</td>\n",
       "      <td>...</td>\n",
       "      <td>...</td>\n",
       "      <td>...</td>\n",
       "      <td>...</td>\n",
       "      <td>...</td>\n",
       "      <td>...</td>\n",
       "      <td>...</td>\n",
       "      <td>...</td>\n",
       "      <td>...</td>\n",
       "      <td>...</td>\n",
       "      <td>...</td>\n",
       "      <td>...</td>\n",
       "      <td>...</td>\n",
       "      <td>...</td>\n",
       "      <td>...</td>\n",
       "    </tr>\n",
       "    <tr>\n",
       "      <th>1321</th>\n",
       "      <td>1321</td>\n",
       "      <td>NaN</td>\n",
       "      <td>NaN</td>\n",
       "      <td>turbocoin</td>\n",
       "      <td>1512368664</td>\n",
       "      <td>NaN</td>\n",
       "      <td>NaN</td>\n",
       "      <td>TurboCoin</td>\n",
       "      <td>NaN</td>\n",
       "      <td>NaN</td>\n",
       "      <td>8.12</td>\n",
       "      <td>1.000000e-08</td>\n",
       "      <td>0.000114</td>\n",
       "      <td>1322</td>\n",
       "      <td>TURBO</td>\n",
       "      <td>NaN</td>\n",
       "    </tr>\n",
       "    <tr>\n",
       "      <th>1322</th>\n",
       "      <td>1322</td>\n",
       "      <td>NaN</td>\n",
       "      <td>NaN</td>\n",
       "      <td>birds</td>\n",
       "      <td>1512535772</td>\n",
       "      <td>NaN</td>\n",
       "      <td>NaN</td>\n",
       "      <td>Birds</td>\n",
       "      <td>NaN</td>\n",
       "      <td>10.62</td>\n",
       "      <td>-42.10</td>\n",
       "      <td>1.000000e-08</td>\n",
       "      <td>0.000122</td>\n",
       "      <td>1323</td>\n",
       "      <td>BIRDS</td>\n",
       "      <td>NaN</td>\n",
       "    </tr>\n",
       "    <tr>\n",
       "      <th>1323</th>\n",
       "      <td>1323</td>\n",
       "      <td>NaN</td>\n",
       "      <td>NaN</td>\n",
       "      <td>bitcoincashscrypt</td>\n",
       "      <td>1512548078</td>\n",
       "      <td>NaN</td>\n",
       "      <td>NaN</td>\n",
       "      <td>BitcoinCashScrypt</td>\n",
       "      <td>-0.37</td>\n",
       "      <td>-37.39</td>\n",
       "      <td>-27.69</td>\n",
       "      <td>5.000000e-07</td>\n",
       "      <td>0.006202</td>\n",
       "      <td>1324</td>\n",
       "      <td>BCCS</td>\n",
       "      <td>2.502380e+06</td>\n",
       "    </tr>\n",
       "    <tr>\n",
       "      <th>1324</th>\n",
       "      <td>1324</td>\n",
       "      <td>NaN</td>\n",
       "      <td>NaN</td>\n",
       "      <td>swisscoin</td>\n",
       "      <td>1512540278</td>\n",
       "      <td>NaN</td>\n",
       "      <td>NaN</td>\n",
       "      <td>Swisscoin</td>\n",
       "      <td>NaN</td>\n",
       "      <td>4.39</td>\n",
       "      <td>-22.84</td>\n",
       "      <td>1.000000e-08</td>\n",
       "      <td>0.000123</td>\n",
       "      <td>1325</td>\n",
       "      <td>SIC</td>\n",
       "      <td>1.020000e+10</td>\n",
       "    </tr>\n",
       "    <tr>\n",
       "      <th>1325</th>\n",
       "      <td>1325</td>\n",
       "      <td>NaN</td>\n",
       "      <td>NaN</td>\n",
       "      <td>faceblock</td>\n",
       "      <td>1512435283</td>\n",
       "      <td>NaN</td>\n",
       "      <td>NaN</td>\n",
       "      <td>Faceblock</td>\n",
       "      <td>NaN</td>\n",
       "      <td>NaN</td>\n",
       "      <td>-6.83</td>\n",
       "      <td>1.400000e-07</td>\n",
       "      <td>0.001654</td>\n",
       "      <td>1326</td>\n",
       "      <td>FBL</td>\n",
       "      <td>1.000000e+07</td>\n",
       "    </tr>\n",
       "  </tbody>\n",
       "</table>\n",
       "<p>1326 rows × 16 columns</p>\n",
       "</div>"
      ],
      "text/plain": [
       "      Unnamed: 0  24h_volume_usd  available_supply                 id  \\\n",
       "0              0    9.007640e+09      1.672352e+07            bitcoin   \n",
       "1              1    1.551330e+09      9.616537e+07           ethereum   \n",
       "2              2    1.111350e+09      1.684044e+07       bitcoin-cash   \n",
       "3              3    2.936090e+09      2.779530e+09               iota   \n",
       "4              4    2.315050e+08      3.873915e+10             ripple   \n",
       "...          ...             ...               ...                ...   \n",
       "1321        1321             NaN               NaN          turbocoin   \n",
       "1322        1322             NaN               NaN              birds   \n",
       "1323        1323             NaN               NaN  bitcoincashscrypt   \n",
       "1324        1324             NaN               NaN          swisscoin   \n",
       "1325        1325             NaN               NaN          faceblock   \n",
       "\n",
       "      last_updated  market_cap_usd    max_supply               name  \\\n",
       "0       1512549554    2.130493e+11  2.100000e+07            Bitcoin   \n",
       "1       1512549553    4.352945e+10           NaN           Ethereum   \n",
       "2       1512549578    2.529585e+10  2.100000e+07       Bitcoin Cash   \n",
       "3       1512549571    1.475225e+10  2.779530e+09               IOTA   \n",
       "4       1512549541    9.365343e+09  1.000000e+11             Ripple   \n",
       "...            ...             ...           ...                ...   \n",
       "1321    1512368664             NaN           NaN          TurboCoin   \n",
       "1322    1512535772             NaN           NaN              Birds   \n",
       "1323    1512548078             NaN           NaN  BitcoinCashScrypt   \n",
       "1324    1512540278             NaN           NaN          Swisscoin   \n",
       "1325    1512435283             NaN           NaN          Faceblock   \n",
       "\n",
       "      percent_change_1h  percent_change_24h  percent_change_7d     price_btc  \\\n",
       "0                  0.12                7.33              17.45  1.000000e+00   \n",
       "1                 -0.18               -3.93              -7.33  3.617670e-02   \n",
       "2                  1.65               -5.51              -4.75  1.200500e-01   \n",
       "3                 -2.38               83.35             255.82  4.241800e-04   \n",
       "4                  0.56               -3.70             -14.79  1.932000e-05   \n",
       "...                 ...                 ...                ...           ...   \n",
       "1321                NaN                 NaN               8.12  1.000000e-08   \n",
       "1322                NaN               10.62             -42.10  1.000000e-08   \n",
       "1323              -0.37              -37.39             -27.69  5.000000e-07   \n",
       "1324                NaN                4.39             -22.84  1.000000e-08   \n",
       "1325                NaN                 NaN              -6.83  1.400000e-07   \n",
       "\n",
       "         price_usd  rank symbol  total_supply  \n",
       "0     12739.500000     1    BTC  1.672352e+07  \n",
       "1       452.652000     2    ETH  9.616537e+07  \n",
       "2      1502.090000     3    BCH  1.684044e+07  \n",
       "3         5.307460     4  MIOTA  2.779530e+09  \n",
       "4         0.241754     5    XRP  9.999309e+10  \n",
       "...            ...   ...    ...           ...  \n",
       "1321      0.000114  1322  TURBO           NaN  \n",
       "1322      0.000122  1323  BIRDS           NaN  \n",
       "1323      0.006202  1324   BCCS  2.502380e+06  \n",
       "1324      0.000123  1325    SIC  1.020000e+10  \n",
       "1325      0.001654  1326    FBL  1.000000e+07  \n",
       "\n",
       "[1326 rows x 16 columns]"
      ]
     },
     "execution_count": 3,
     "metadata": {},
     "output_type": "execute_result"
    }
   ],
   "source": [
    "dec6"
   ]
  },
  {
   "cell_type": "code",
   "execution_count": 4,
   "id": "8fa583c6-0e70-4e7b-8ad1-6667e9fcb4f4",
   "metadata": {},
   "outputs": [
    {
     "data": {
      "text/html": [
       "<div>\n",
       "<style scoped>\n",
       "    .dataframe tbody tr th:only-of-type {\n",
       "        vertical-align: middle;\n",
       "    }\n",
       "\n",
       "    .dataframe tbody tr th {\n",
       "        vertical-align: top;\n",
       "    }\n",
       "\n",
       "    .dataframe thead th {\n",
       "        text-align: right;\n",
       "    }\n",
       "</style>\n",
       "<table border=\"1\" class=\"dataframe\">\n",
       "  <thead>\n",
       "    <tr style=\"text-align: right;\">\n",
       "      <th></th>\n",
       "      <th>Unnamed: 0</th>\n",
       "      <th>24h_volume_usd</th>\n",
       "      <th>available_supply</th>\n",
       "      <th>id</th>\n",
       "      <th>last_updated</th>\n",
       "      <th>market_cap_usd</th>\n",
       "      <th>max_supply</th>\n",
       "      <th>name</th>\n",
       "      <th>percent_change_1h</th>\n",
       "      <th>percent_change_24h</th>\n",
       "      <th>percent_change_7d</th>\n",
       "      <th>price_btc</th>\n",
       "      <th>price_usd</th>\n",
       "      <th>rank</th>\n",
       "      <th>symbol</th>\n",
       "      <th>total_supply</th>\n",
       "    </tr>\n",
       "  </thead>\n",
       "  <tbody>\n",
       "    <tr>\n",
       "      <th>0</th>\n",
       "      <td>0</td>\n",
       "      <td>9.007640e+09</td>\n",
       "      <td>1.672352e+07</td>\n",
       "      <td>bitcoin</td>\n",
       "      <td>1512549554</td>\n",
       "      <td>2.130493e+11</td>\n",
       "      <td>2.100000e+07</td>\n",
       "      <td>Bitcoin</td>\n",
       "      <td>0.12</td>\n",
       "      <td>7.33</td>\n",
       "      <td>17.45</td>\n",
       "      <td>1.000000</td>\n",
       "      <td>12739.500000</td>\n",
       "      <td>1</td>\n",
       "      <td>BTC</td>\n",
       "      <td>1.672352e+07</td>\n",
       "    </tr>\n",
       "    <tr>\n",
       "      <th>1</th>\n",
       "      <td>1</td>\n",
       "      <td>1.551330e+09</td>\n",
       "      <td>9.616537e+07</td>\n",
       "      <td>ethereum</td>\n",
       "      <td>1512549553</td>\n",
       "      <td>4.352945e+10</td>\n",
       "      <td>NaN</td>\n",
       "      <td>Ethereum</td>\n",
       "      <td>-0.18</td>\n",
       "      <td>-3.93</td>\n",
       "      <td>-7.33</td>\n",
       "      <td>0.036177</td>\n",
       "      <td>452.652000</td>\n",
       "      <td>2</td>\n",
       "      <td>ETH</td>\n",
       "      <td>9.616537e+07</td>\n",
       "    </tr>\n",
       "    <tr>\n",
       "      <th>2</th>\n",
       "      <td>2</td>\n",
       "      <td>1.111350e+09</td>\n",
       "      <td>1.684044e+07</td>\n",
       "      <td>bitcoin-cash</td>\n",
       "      <td>1512549578</td>\n",
       "      <td>2.529585e+10</td>\n",
       "      <td>2.100000e+07</td>\n",
       "      <td>Bitcoin Cash</td>\n",
       "      <td>1.65</td>\n",
       "      <td>-5.51</td>\n",
       "      <td>-4.75</td>\n",
       "      <td>0.120050</td>\n",
       "      <td>1502.090000</td>\n",
       "      <td>3</td>\n",
       "      <td>BCH</td>\n",
       "      <td>1.684044e+07</td>\n",
       "    </tr>\n",
       "    <tr>\n",
       "      <th>3</th>\n",
       "      <td>3</td>\n",
       "      <td>2.936090e+09</td>\n",
       "      <td>2.779530e+09</td>\n",
       "      <td>iota</td>\n",
       "      <td>1512549571</td>\n",
       "      <td>1.475225e+10</td>\n",
       "      <td>2.779530e+09</td>\n",
       "      <td>IOTA</td>\n",
       "      <td>-2.38</td>\n",
       "      <td>83.35</td>\n",
       "      <td>255.82</td>\n",
       "      <td>0.000424</td>\n",
       "      <td>5.307460</td>\n",
       "      <td>4</td>\n",
       "      <td>MIOTA</td>\n",
       "      <td>2.779530e+09</td>\n",
       "    </tr>\n",
       "    <tr>\n",
       "      <th>4</th>\n",
       "      <td>4</td>\n",
       "      <td>2.315050e+08</td>\n",
       "      <td>3.873915e+10</td>\n",
       "      <td>ripple</td>\n",
       "      <td>1512549541</td>\n",
       "      <td>9.365343e+09</td>\n",
       "      <td>1.000000e+11</td>\n",
       "      <td>Ripple</td>\n",
       "      <td>0.56</td>\n",
       "      <td>-3.70</td>\n",
       "      <td>-14.79</td>\n",
       "      <td>0.000019</td>\n",
       "      <td>0.241754</td>\n",
       "      <td>5</td>\n",
       "      <td>XRP</td>\n",
       "      <td>9.999309e+10</td>\n",
       "    </tr>\n",
       "  </tbody>\n",
       "</table>\n",
       "</div>"
      ],
      "text/plain": [
       "   Unnamed: 0  24h_volume_usd  available_supply            id  last_updated  \\\n",
       "0           0    9.007640e+09      1.672352e+07       bitcoin    1512549554   \n",
       "1           1    1.551330e+09      9.616537e+07      ethereum    1512549553   \n",
       "2           2    1.111350e+09      1.684044e+07  bitcoin-cash    1512549578   \n",
       "3           3    2.936090e+09      2.779530e+09          iota    1512549571   \n",
       "4           4    2.315050e+08      3.873915e+10        ripple    1512549541   \n",
       "\n",
       "   market_cap_usd    max_supply          name  percent_change_1h  \\\n",
       "0    2.130493e+11  2.100000e+07       Bitcoin               0.12   \n",
       "1    4.352945e+10           NaN      Ethereum              -0.18   \n",
       "2    2.529585e+10  2.100000e+07  Bitcoin Cash               1.65   \n",
       "3    1.475225e+10  2.779530e+09          IOTA              -2.38   \n",
       "4    9.365343e+09  1.000000e+11        Ripple               0.56   \n",
       "\n",
       "   percent_change_24h  percent_change_7d  price_btc     price_usd  rank  \\\n",
       "0                7.33              17.45   1.000000  12739.500000     1   \n",
       "1               -3.93              -7.33   0.036177    452.652000     2   \n",
       "2               -5.51              -4.75   0.120050   1502.090000     3   \n",
       "3               83.35             255.82   0.000424      5.307460     4   \n",
       "4               -3.70             -14.79   0.000019      0.241754     5   \n",
       "\n",
       "  symbol  total_supply  \n",
       "0    BTC  1.672352e+07  \n",
       "1    ETH  9.616537e+07  \n",
       "2    BCH  1.684044e+07  \n",
       "3  MIOTA  2.779530e+09  \n",
       "4    XRP  9.999309e+10  "
      ]
     },
     "execution_count": 4,
     "metadata": {},
     "output_type": "execute_result"
    }
   ],
   "source": [
    "dec6.head()"
   ]
  },
  {
   "cell_type": "code",
   "execution_count": 5,
   "id": "ef44d2f3-6fed-4814-859f-e94bbe617096",
   "metadata": {},
   "outputs": [
    {
     "data": {
      "text/plain": [
       "(1326, 16)"
      ]
     },
     "execution_count": 5,
     "metadata": {},
     "output_type": "execute_result"
    }
   ],
   "source": [
    "dec6.shape"
   ]
  },
  {
   "cell_type": "code",
   "execution_count": 6,
   "id": "f97fae91-db7e-432d-bf51-3529bf4210f7",
   "metadata": {},
   "outputs": [
    {
     "name": "stdout",
     "output_type": "stream",
     "text": [
      "<class 'pandas.core.frame.DataFrame'>\n",
      "RangeIndex: 1326 entries, 0 to 1325\n",
      "Data columns (total 16 columns):\n",
      " #   Column              Non-Null Count  Dtype  \n",
      "---  ------              --------------  -----  \n",
      " 0   Unnamed: 0          1326 non-null   int64  \n",
      " 1   24h_volume_usd      1270 non-null   float64\n",
      " 2   available_supply    1031 non-null   float64\n",
      " 3   id                  1326 non-null   object \n",
      " 4   last_updated        1326 non-null   int64  \n",
      " 5   market_cap_usd      1031 non-null   float64\n",
      " 6   max_supply          215 non-null    float64\n",
      " 7   name                1326 non-null   object \n",
      " 8   percent_change_1h   1273 non-null   float64\n",
      " 9   percent_change_24h  1270 non-null   float64\n",
      " 10  percent_change_7d   1283 non-null   float64\n",
      " 11  price_btc           1326 non-null   float64\n",
      " 12  price_usd           1326 non-null   float64\n",
      " 13  rank                1326 non-null   int64  \n",
      " 14  symbol              1326 non-null   object \n",
      " 15  total_supply        1211 non-null   float64\n",
      "dtypes: float64(10), int64(3), object(3)\n",
      "memory usage: 165.9+ KB\n"
     ]
    }
   ],
   "source": [
    "dec6.info()"
   ]
  },
  {
   "cell_type": "code",
   "execution_count": 7,
   "id": "e10fe1ce-5747-4508-ade1-47618d274831",
   "metadata": {},
   "outputs": [
    {
     "data": {
      "text/plain": [
       "Index(['Unnamed: 0', '24h_volume_usd', 'available_supply', 'id',\n",
       "       'last_updated', 'market_cap_usd', 'max_supply', 'name',\n",
       "       'percent_change_1h', 'percent_change_24h', 'percent_change_7d',\n",
       "       'price_btc', 'price_usd', 'rank', 'symbol', 'total_supply'],\n",
       "      dtype='object')"
      ]
     },
     "execution_count": 7,
     "metadata": {},
     "output_type": "execute_result"
    }
   ],
   "source": [
    "dec6.columns"
   ]
  },
  {
   "cell_type": "code",
   "execution_count": 8,
   "id": "fdb360b9-25cf-4975-83e2-adb2763a17d6",
   "metadata": {},
   "outputs": [
    {
     "data": {
      "text/plain": [
       "Unnamed: 0               0\n",
       "24h_volume_usd          56\n",
       "available_supply       295\n",
       "id                       0\n",
       "last_updated             0\n",
       "market_cap_usd         295\n",
       "max_supply            1111\n",
       "name                     0\n",
       "percent_change_1h       53\n",
       "percent_change_24h      56\n",
       "percent_change_7d       43\n",
       "price_btc                0\n",
       "price_usd                0\n",
       "rank                     0\n",
       "symbol                   0\n",
       "total_supply           115\n",
       "dtype: int64"
      ]
     },
     "execution_count": 8,
     "metadata": {},
     "output_type": "execute_result"
    }
   ],
   "source": [
    "dec6.isnull().sum()"
   ]
  },
  {
   "cell_type": "code",
   "execution_count": 9,
   "id": "b75a8d22-1bb4-441d-a40f-4b78d793c582",
   "metadata": {},
   "outputs": [],
   "source": [
    "data = dec6.copy()"
   ]
  },
  {
   "cell_type": "code",
   "execution_count": 10,
   "id": "5a89d0a1-9bbe-4fd3-a59b-0278089bd364",
   "metadata": {},
   "outputs": [
    {
     "data": {
      "text/html": [
       "<div>\n",
       "<style scoped>\n",
       "    .dataframe tbody tr th:only-of-type {\n",
       "        vertical-align: middle;\n",
       "    }\n",
       "\n",
       "    .dataframe tbody tr th {\n",
       "        vertical-align: top;\n",
       "    }\n",
       "\n",
       "    .dataframe thead th {\n",
       "        text-align: right;\n",
       "    }\n",
       "</style>\n",
       "<table border=\"1\" class=\"dataframe\">\n",
       "  <thead>\n",
       "    <tr style=\"text-align: right;\">\n",
       "      <th></th>\n",
       "      <th>Unnamed: 0</th>\n",
       "      <th>24h_volume_usd</th>\n",
       "      <th>available_supply</th>\n",
       "      <th>id</th>\n",
       "      <th>last_updated</th>\n",
       "      <th>market_cap_usd</th>\n",
       "      <th>max_supply</th>\n",
       "      <th>name</th>\n",
       "      <th>percent_change_1h</th>\n",
       "      <th>percent_change_24h</th>\n",
       "      <th>percent_change_7d</th>\n",
       "      <th>price_btc</th>\n",
       "      <th>price_usd</th>\n",
       "      <th>rank</th>\n",
       "      <th>symbol</th>\n",
       "      <th>total_supply</th>\n",
       "    </tr>\n",
       "  </thead>\n",
       "  <tbody>\n",
       "    <tr>\n",
       "      <th>0</th>\n",
       "      <td>0</td>\n",
       "      <td>9.007640e+09</td>\n",
       "      <td>1.672352e+07</td>\n",
       "      <td>bitcoin</td>\n",
       "      <td>1512549554</td>\n",
       "      <td>2.130493e+11</td>\n",
       "      <td>2.100000e+07</td>\n",
       "      <td>Bitcoin</td>\n",
       "      <td>0.12</td>\n",
       "      <td>7.33</td>\n",
       "      <td>17.45</td>\n",
       "      <td>1.000000e+00</td>\n",
       "      <td>12739.500000</td>\n",
       "      <td>1</td>\n",
       "      <td>BTC</td>\n",
       "      <td>1.672352e+07</td>\n",
       "    </tr>\n",
       "    <tr>\n",
       "      <th>1</th>\n",
       "      <td>1</td>\n",
       "      <td>1.551330e+09</td>\n",
       "      <td>9.616537e+07</td>\n",
       "      <td>ethereum</td>\n",
       "      <td>1512549553</td>\n",
       "      <td>4.352945e+10</td>\n",
       "      <td>NaN</td>\n",
       "      <td>Ethereum</td>\n",
       "      <td>-0.18</td>\n",
       "      <td>-3.93</td>\n",
       "      <td>-7.33</td>\n",
       "      <td>3.617670e-02</td>\n",
       "      <td>452.652000</td>\n",
       "      <td>2</td>\n",
       "      <td>ETH</td>\n",
       "      <td>9.616537e+07</td>\n",
       "    </tr>\n",
       "    <tr>\n",
       "      <th>2</th>\n",
       "      <td>2</td>\n",
       "      <td>1.111350e+09</td>\n",
       "      <td>1.684044e+07</td>\n",
       "      <td>bitcoin-cash</td>\n",
       "      <td>1512549578</td>\n",
       "      <td>2.529585e+10</td>\n",
       "      <td>2.100000e+07</td>\n",
       "      <td>Bitcoin Cash</td>\n",
       "      <td>1.65</td>\n",
       "      <td>-5.51</td>\n",
       "      <td>-4.75</td>\n",
       "      <td>1.200500e-01</td>\n",
       "      <td>1502.090000</td>\n",
       "      <td>3</td>\n",
       "      <td>BCH</td>\n",
       "      <td>1.684044e+07</td>\n",
       "    </tr>\n",
       "    <tr>\n",
       "      <th>3</th>\n",
       "      <td>3</td>\n",
       "      <td>2.936090e+09</td>\n",
       "      <td>2.779530e+09</td>\n",
       "      <td>iota</td>\n",
       "      <td>1512549571</td>\n",
       "      <td>1.475225e+10</td>\n",
       "      <td>2.779530e+09</td>\n",
       "      <td>IOTA</td>\n",
       "      <td>-2.38</td>\n",
       "      <td>83.35</td>\n",
       "      <td>255.82</td>\n",
       "      <td>4.241800e-04</td>\n",
       "      <td>5.307460</td>\n",
       "      <td>4</td>\n",
       "      <td>MIOTA</td>\n",
       "      <td>2.779530e+09</td>\n",
       "    </tr>\n",
       "    <tr>\n",
       "      <th>4</th>\n",
       "      <td>4</td>\n",
       "      <td>2.315050e+08</td>\n",
       "      <td>3.873915e+10</td>\n",
       "      <td>ripple</td>\n",
       "      <td>1512549541</td>\n",
       "      <td>9.365343e+09</td>\n",
       "      <td>1.000000e+11</td>\n",
       "      <td>Ripple</td>\n",
       "      <td>0.56</td>\n",
       "      <td>-3.70</td>\n",
       "      <td>-14.79</td>\n",
       "      <td>1.932000e-05</td>\n",
       "      <td>0.241754</td>\n",
       "      <td>5</td>\n",
       "      <td>XRP</td>\n",
       "      <td>9.999309e+10</td>\n",
       "    </tr>\n",
       "    <tr>\n",
       "      <th>...</th>\n",
       "      <td>...</td>\n",
       "      <td>...</td>\n",
       "      <td>...</td>\n",
       "      <td>...</td>\n",
       "      <td>...</td>\n",
       "      <td>...</td>\n",
       "      <td>...</td>\n",
       "      <td>...</td>\n",
       "      <td>...</td>\n",
       "      <td>...</td>\n",
       "      <td>...</td>\n",
       "      <td>...</td>\n",
       "      <td>...</td>\n",
       "      <td>...</td>\n",
       "      <td>...</td>\n",
       "      <td>...</td>\n",
       "    </tr>\n",
       "    <tr>\n",
       "      <th>1321</th>\n",
       "      <td>1321</td>\n",
       "      <td>NaN</td>\n",
       "      <td>NaN</td>\n",
       "      <td>turbocoin</td>\n",
       "      <td>1512368664</td>\n",
       "      <td>NaN</td>\n",
       "      <td>NaN</td>\n",
       "      <td>TurboCoin</td>\n",
       "      <td>NaN</td>\n",
       "      <td>NaN</td>\n",
       "      <td>8.12</td>\n",
       "      <td>1.000000e-08</td>\n",
       "      <td>0.000114</td>\n",
       "      <td>1322</td>\n",
       "      <td>TURBO</td>\n",
       "      <td>NaN</td>\n",
       "    </tr>\n",
       "    <tr>\n",
       "      <th>1322</th>\n",
       "      <td>1322</td>\n",
       "      <td>NaN</td>\n",
       "      <td>NaN</td>\n",
       "      <td>birds</td>\n",
       "      <td>1512535772</td>\n",
       "      <td>NaN</td>\n",
       "      <td>NaN</td>\n",
       "      <td>Birds</td>\n",
       "      <td>NaN</td>\n",
       "      <td>10.62</td>\n",
       "      <td>-42.10</td>\n",
       "      <td>1.000000e-08</td>\n",
       "      <td>0.000122</td>\n",
       "      <td>1323</td>\n",
       "      <td>BIRDS</td>\n",
       "      <td>NaN</td>\n",
       "    </tr>\n",
       "    <tr>\n",
       "      <th>1323</th>\n",
       "      <td>1323</td>\n",
       "      <td>NaN</td>\n",
       "      <td>NaN</td>\n",
       "      <td>bitcoincashscrypt</td>\n",
       "      <td>1512548078</td>\n",
       "      <td>NaN</td>\n",
       "      <td>NaN</td>\n",
       "      <td>BitcoinCashScrypt</td>\n",
       "      <td>-0.37</td>\n",
       "      <td>-37.39</td>\n",
       "      <td>-27.69</td>\n",
       "      <td>5.000000e-07</td>\n",
       "      <td>0.006202</td>\n",
       "      <td>1324</td>\n",
       "      <td>BCCS</td>\n",
       "      <td>2.502380e+06</td>\n",
       "    </tr>\n",
       "    <tr>\n",
       "      <th>1324</th>\n",
       "      <td>1324</td>\n",
       "      <td>NaN</td>\n",
       "      <td>NaN</td>\n",
       "      <td>swisscoin</td>\n",
       "      <td>1512540278</td>\n",
       "      <td>NaN</td>\n",
       "      <td>NaN</td>\n",
       "      <td>Swisscoin</td>\n",
       "      <td>NaN</td>\n",
       "      <td>4.39</td>\n",
       "      <td>-22.84</td>\n",
       "      <td>1.000000e-08</td>\n",
       "      <td>0.000123</td>\n",
       "      <td>1325</td>\n",
       "      <td>SIC</td>\n",
       "      <td>1.020000e+10</td>\n",
       "    </tr>\n",
       "    <tr>\n",
       "      <th>1325</th>\n",
       "      <td>1325</td>\n",
       "      <td>NaN</td>\n",
       "      <td>NaN</td>\n",
       "      <td>faceblock</td>\n",
       "      <td>1512435283</td>\n",
       "      <td>NaN</td>\n",
       "      <td>NaN</td>\n",
       "      <td>Faceblock</td>\n",
       "      <td>NaN</td>\n",
       "      <td>NaN</td>\n",
       "      <td>-6.83</td>\n",
       "      <td>1.400000e-07</td>\n",
       "      <td>0.001654</td>\n",
       "      <td>1326</td>\n",
       "      <td>FBL</td>\n",
       "      <td>1.000000e+07</td>\n",
       "    </tr>\n",
       "  </tbody>\n",
       "</table>\n",
       "<p>1326 rows × 16 columns</p>\n",
       "</div>"
      ],
      "text/plain": [
       "      Unnamed: 0  24h_volume_usd  available_supply                 id  \\\n",
       "0              0    9.007640e+09      1.672352e+07            bitcoin   \n",
       "1              1    1.551330e+09      9.616537e+07           ethereum   \n",
       "2              2    1.111350e+09      1.684044e+07       bitcoin-cash   \n",
       "3              3    2.936090e+09      2.779530e+09               iota   \n",
       "4              4    2.315050e+08      3.873915e+10             ripple   \n",
       "...          ...             ...               ...                ...   \n",
       "1321        1321             NaN               NaN          turbocoin   \n",
       "1322        1322             NaN               NaN              birds   \n",
       "1323        1323             NaN               NaN  bitcoincashscrypt   \n",
       "1324        1324             NaN               NaN          swisscoin   \n",
       "1325        1325             NaN               NaN          faceblock   \n",
       "\n",
       "      last_updated  market_cap_usd    max_supply               name  \\\n",
       "0       1512549554    2.130493e+11  2.100000e+07            Bitcoin   \n",
       "1       1512549553    4.352945e+10           NaN           Ethereum   \n",
       "2       1512549578    2.529585e+10  2.100000e+07       Bitcoin Cash   \n",
       "3       1512549571    1.475225e+10  2.779530e+09               IOTA   \n",
       "4       1512549541    9.365343e+09  1.000000e+11             Ripple   \n",
       "...            ...             ...           ...                ...   \n",
       "1321    1512368664             NaN           NaN          TurboCoin   \n",
       "1322    1512535772             NaN           NaN              Birds   \n",
       "1323    1512548078             NaN           NaN  BitcoinCashScrypt   \n",
       "1324    1512540278             NaN           NaN          Swisscoin   \n",
       "1325    1512435283             NaN           NaN          Faceblock   \n",
       "\n",
       "      percent_change_1h  percent_change_24h  percent_change_7d     price_btc  \\\n",
       "0                  0.12                7.33              17.45  1.000000e+00   \n",
       "1                 -0.18               -3.93              -7.33  3.617670e-02   \n",
       "2                  1.65               -5.51              -4.75  1.200500e-01   \n",
       "3                 -2.38               83.35             255.82  4.241800e-04   \n",
       "4                  0.56               -3.70             -14.79  1.932000e-05   \n",
       "...                 ...                 ...                ...           ...   \n",
       "1321                NaN                 NaN               8.12  1.000000e-08   \n",
       "1322                NaN               10.62             -42.10  1.000000e-08   \n",
       "1323              -0.37              -37.39             -27.69  5.000000e-07   \n",
       "1324                NaN                4.39             -22.84  1.000000e-08   \n",
       "1325                NaN                 NaN              -6.83  1.400000e-07   \n",
       "\n",
       "         price_usd  rank symbol  total_supply  \n",
       "0     12739.500000     1    BTC  1.672352e+07  \n",
       "1       452.652000     2    ETH  9.616537e+07  \n",
       "2      1502.090000     3    BCH  1.684044e+07  \n",
       "3         5.307460     4  MIOTA  2.779530e+09  \n",
       "4         0.241754     5    XRP  9.999309e+10  \n",
       "...            ...   ...    ...           ...  \n",
       "1321      0.000114  1322  TURBO           NaN  \n",
       "1322      0.000122  1323  BIRDS           NaN  \n",
       "1323      0.006202  1324   BCCS  2.502380e+06  \n",
       "1324      0.000123  1325    SIC  1.020000e+10  \n",
       "1325      0.001654  1326    FBL  1.000000e+07  \n",
       "\n",
       "[1326 rows x 16 columns]"
      ]
     },
     "execution_count": 10,
     "metadata": {},
     "output_type": "execute_result"
    }
   ],
   "source": [
    "data"
   ]
  },
  {
   "cell_type": "code",
   "execution_count": 11,
   "id": "84bd2720-d928-4245-a358-1893e8027c0c",
   "metadata": {},
   "outputs": [
    {
     "data": {
      "text/plain": [
       "(1326, 16)"
      ]
     },
     "execution_count": 11,
     "metadata": {},
     "output_type": "execute_result"
    }
   ],
   "source": [
    "data.shape"
   ]
  },
  {
   "cell_type": "code",
   "execution_count": 12,
   "id": "12c52e31-c860-4ba5-8070-dde97e366d73",
   "metadata": {},
   "outputs": [
    {
     "data": {
      "text/plain": [
       "Index(['Unnamed: 0', '24h_volume_usd', 'available_supply', 'id',\n",
       "       'last_updated', 'market_cap_usd', 'max_supply', 'name',\n",
       "       'percent_change_1h', 'percent_change_24h', 'percent_change_7d',\n",
       "       'price_btc', 'price_usd', 'rank', 'symbol', 'total_supply'],\n",
       "      dtype='object')"
      ]
     },
     "execution_count": 12,
     "metadata": {},
     "output_type": "execute_result"
    }
   ],
   "source": [
    "data.columns"
   ]
  },
  {
   "cell_type": "code",
   "execution_count": 13,
   "id": "0046f422-60f0-40e9-af56-3279989e8f7d",
   "metadata": {},
   "outputs": [
    {
     "data": {
      "text/html": [
       "<div>\n",
       "<style scoped>\n",
       "    .dataframe tbody tr th:only-of-type {\n",
       "        vertical-align: middle;\n",
       "    }\n",
       "\n",
       "    .dataframe tbody tr th {\n",
       "        vertical-align: top;\n",
       "    }\n",
       "\n",
       "    .dataframe thead th {\n",
       "        text-align: right;\n",
       "    }\n",
       "</style>\n",
       "<table border=\"1\" class=\"dataframe\">\n",
       "  <thead>\n",
       "    <tr style=\"text-align: right;\">\n",
       "      <th></th>\n",
       "      <th>id</th>\n",
       "      <th>market_cap_usd</th>\n",
       "    </tr>\n",
       "  </thead>\n",
       "  <tbody>\n",
       "    <tr>\n",
       "      <th>0</th>\n",
       "      <td>bitcoin</td>\n",
       "      <td>2.130493e+11</td>\n",
       "    </tr>\n",
       "    <tr>\n",
       "      <th>1</th>\n",
       "      <td>ethereum</td>\n",
       "      <td>4.352945e+10</td>\n",
       "    </tr>\n",
       "    <tr>\n",
       "      <th>2</th>\n",
       "      <td>bitcoin-cash</td>\n",
       "      <td>2.529585e+10</td>\n",
       "    </tr>\n",
       "    <tr>\n",
       "      <th>3</th>\n",
       "      <td>iota</td>\n",
       "      <td>1.475225e+10</td>\n",
       "    </tr>\n",
       "    <tr>\n",
       "      <th>4</th>\n",
       "      <td>ripple</td>\n",
       "      <td>9.365343e+09</td>\n",
       "    </tr>\n",
       "    <tr>\n",
       "      <th>...</th>\n",
       "      <td>...</td>\n",
       "      <td>...</td>\n",
       "    </tr>\n",
       "    <tr>\n",
       "      <th>1321</th>\n",
       "      <td>turbocoin</td>\n",
       "      <td>NaN</td>\n",
       "    </tr>\n",
       "    <tr>\n",
       "      <th>1322</th>\n",
       "      <td>birds</td>\n",
       "      <td>NaN</td>\n",
       "    </tr>\n",
       "    <tr>\n",
       "      <th>1323</th>\n",
       "      <td>bitcoincashscrypt</td>\n",
       "      <td>NaN</td>\n",
       "    </tr>\n",
       "    <tr>\n",
       "      <th>1324</th>\n",
       "      <td>swisscoin</td>\n",
       "      <td>NaN</td>\n",
       "    </tr>\n",
       "    <tr>\n",
       "      <th>1325</th>\n",
       "      <td>faceblock</td>\n",
       "      <td>NaN</td>\n",
       "    </tr>\n",
       "  </tbody>\n",
       "</table>\n",
       "<p>1326 rows × 2 columns</p>\n",
       "</div>"
      ],
      "text/plain": [
       "                     id  market_cap_usd\n",
       "0               bitcoin    2.130493e+11\n",
       "1              ethereum    4.352945e+10\n",
       "2          bitcoin-cash    2.529585e+10\n",
       "3                  iota    1.475225e+10\n",
       "4                ripple    9.365343e+09\n",
       "...                 ...             ...\n",
       "1321          turbocoin             NaN\n",
       "1322              birds             NaN\n",
       "1323  bitcoincashscrypt             NaN\n",
       "1324          swisscoin             NaN\n",
       "1325          faceblock             NaN\n",
       "\n",
       "[1326 rows x 2 columns]"
      ]
     },
     "metadata": {},
     "output_type": "display_data"
    }
   ],
   "source": [
    "# Selecting the 'id' and the 'market_cap_usd' columns\n",
    "market_cap_raw = data[['id','market_cap_usd']]\n",
    "display(market_cap_raw)"
   ]
  },
  {
   "cell_type": "code",
   "execution_count": 14,
   "id": "8f84c386-eb51-4580-b10a-8a56bdbe414c",
   "metadata": {},
   "outputs": [],
   "source": [
    "# Counting the number of values\n",
    "# ... YOUR CODE FOR TASK 2 ..."
   ]
  },
  {
   "cell_type": "code",
   "execution_count": 15,
   "id": "84378d72-4397-489b-831c-6e370578fea5",
   "metadata": {},
   "outputs": [
    {
     "data": {
      "text/plain": [
       "id                1326\n",
       "market_cap_usd    1031\n",
       "dtype: int64"
      ]
     },
     "execution_count": 15,
     "metadata": {},
     "output_type": "execute_result"
    }
   ],
   "source": [
    "market_cap_raw.count()"
   ]
  },
  {
   "cell_type": "code",
   "execution_count": 16,
   "id": "2730014b-fe15-409b-8bdd-4edd24715f2b",
   "metadata": {},
   "outputs": [
    {
     "data": {
      "text/plain": [
       "id                  0\n",
       "market_cap_usd    295\n",
       "dtype: int64"
      ]
     },
     "execution_count": 16,
     "metadata": {},
     "output_type": "execute_result"
    }
   ],
   "source": [
    "market_cap_raw.isnull().sum()"
   ]
  },
  {
   "cell_type": "code",
   "execution_count": 17,
   "id": "3e7825f7-c5ac-409f-91c0-415217a348ad",
   "metadata": {},
   "outputs": [],
   "source": [
    "cap = market_cap_raw.dropna()"
   ]
  },
  {
   "cell_type": "code",
   "execution_count": 18,
   "id": "95a67eb8-a969-47b2-8cc3-cb0a3490fa7c",
   "metadata": {},
   "outputs": [
    {
     "data": {
      "text/plain": [
       "id                0\n",
       "market_cap_usd    0\n",
       "dtype: int64"
      ]
     },
     "execution_count": 18,
     "metadata": {},
     "output_type": "execute_result"
    }
   ],
   "source": [
    "cap.isnull().sum()"
   ]
  },
  {
   "cell_type": "code",
   "execution_count": 19,
   "id": "220012c7-9c81-4585-ac23-0d4a2892c09f",
   "metadata": {},
   "outputs": [
    {
     "data": {
      "text/plain": [
       "id                1031\n",
       "market_cap_usd    1031\n",
       "dtype: int64"
      ]
     },
     "execution_count": 19,
     "metadata": {},
     "output_type": "execute_result"
    }
   ],
   "source": [
    "cap.count()"
   ]
  },
  {
   "cell_type": "code",
   "execution_count": 20,
   "id": "1038286f-f24a-4943-9557-f25c612076b8",
   "metadata": {},
   "outputs": [
    {
     "data": {
      "text/plain": [
       "id                1031\n",
       "market_cap_usd    1031\n",
       "dtype: int64"
      ]
     },
     "execution_count": 20,
     "metadata": {},
     "output_type": "execute_result"
    }
   ],
   "source": [
    "cap.nunique()"
   ]
  },
  {
   "cell_type": "code",
   "execution_count": null,
   "id": "7e954b48-4336-4bda-87f0-2e30db26b119",
   "metadata": {},
   "outputs": [],
   "source": []
  },
  {
   "cell_type": "markdown",
   "id": "0ee5bd28-b6ee-4cd7-af1e-cf85a0fb5efd",
   "metadata": {},
   "source": [
    "## 2. Discard the cryptocurrencies without a market capitalization\n",
    "<p>Why do the <code>count()</code> for <code>id</code> and <code>market_cap_usd</code> differ above? It is because some cryptocurrencies listed in coinmarketcap.com have no known market capitalization, this is represented by <code>NaN</code> in the data, and <code>NaN</code>s are not counted by <code>count()</code>. These cryptocurrencies are of little interest to us in this analysis, so they are safe to remove.</p>"
   ]
  },
  {
   "cell_type": "code",
   "execution_count": 21,
   "id": "09a0d915-56df-42ad-847a-dcc4d01aebc5",
   "metadata": {},
   "outputs": [],
   "source": [
    "# Filtering out rows without a market capitalization\n",
    "cap = market_cap_raw.query('market_cap_usd > 0')"
   ]
  },
  {
   "cell_type": "code",
   "execution_count": 22,
   "id": "08cc11f8-fad2-493a-b97f-cb5ea5474105",
   "metadata": {},
   "outputs": [
    {
     "data": {
      "text/html": [
       "<div>\n",
       "<style scoped>\n",
       "    .dataframe tbody tr th:only-of-type {\n",
       "        vertical-align: middle;\n",
       "    }\n",
       "\n",
       "    .dataframe tbody tr th {\n",
       "        vertical-align: top;\n",
       "    }\n",
       "\n",
       "    .dataframe thead th {\n",
       "        text-align: right;\n",
       "    }\n",
       "</style>\n",
       "<table border=\"1\" class=\"dataframe\">\n",
       "  <thead>\n",
       "    <tr style=\"text-align: right;\">\n",
       "      <th></th>\n",
       "      <th>id</th>\n",
       "      <th>market_cap_usd</th>\n",
       "    </tr>\n",
       "  </thead>\n",
       "  <tbody>\n",
       "    <tr>\n",
       "      <th>0</th>\n",
       "      <td>bitcoin</td>\n",
       "      <td>2.130493e+11</td>\n",
       "    </tr>\n",
       "    <tr>\n",
       "      <th>1</th>\n",
       "      <td>ethereum</td>\n",
       "      <td>4.352945e+10</td>\n",
       "    </tr>\n",
       "    <tr>\n",
       "      <th>2</th>\n",
       "      <td>bitcoin-cash</td>\n",
       "      <td>2.529585e+10</td>\n",
       "    </tr>\n",
       "    <tr>\n",
       "      <th>3</th>\n",
       "      <td>iota</td>\n",
       "      <td>1.475225e+10</td>\n",
       "    </tr>\n",
       "    <tr>\n",
       "      <th>4</th>\n",
       "      <td>ripple</td>\n",
       "      <td>9.365343e+09</td>\n",
       "    </tr>\n",
       "    <tr>\n",
       "      <th>...</th>\n",
       "      <td>...</td>\n",
       "      <td>...</td>\n",
       "    </tr>\n",
       "    <tr>\n",
       "      <th>1026</th>\n",
       "      <td>future-digital-currency</td>\n",
       "      <td>2.510000e+02</td>\n",
       "    </tr>\n",
       "    <tr>\n",
       "      <th>1027</th>\n",
       "      <td>environ</td>\n",
       "      <td>1.360000e+02</td>\n",
       "    </tr>\n",
       "    <tr>\n",
       "      <th>1028</th>\n",
       "      <td>caliphcoin</td>\n",
       "      <td>1.000000e+02</td>\n",
       "    </tr>\n",
       "    <tr>\n",
       "      <th>1029</th>\n",
       "      <td>falcoin</td>\n",
       "      <td>2.300000e+01</td>\n",
       "    </tr>\n",
       "    <tr>\n",
       "      <th>1030</th>\n",
       "      <td>applecoin-apw</td>\n",
       "      <td>1.000000e+01</td>\n",
       "    </tr>\n",
       "  </tbody>\n",
       "</table>\n",
       "<p>1031 rows × 2 columns</p>\n",
       "</div>"
      ],
      "text/plain": [
       "                           id  market_cap_usd\n",
       "0                     bitcoin    2.130493e+11\n",
       "1                    ethereum    4.352945e+10\n",
       "2                bitcoin-cash    2.529585e+10\n",
       "3                        iota    1.475225e+10\n",
       "4                      ripple    9.365343e+09\n",
       "...                       ...             ...\n",
       "1026  future-digital-currency    2.510000e+02\n",
       "1027                  environ    1.360000e+02\n",
       "1028               caliphcoin    1.000000e+02\n",
       "1029                  falcoin    2.300000e+01\n",
       "1030            applecoin-apw    1.000000e+01\n",
       "\n",
       "[1031 rows x 2 columns]"
      ]
     },
     "execution_count": 22,
     "metadata": {},
     "output_type": "execute_result"
    }
   ],
   "source": [
    "cap"
   ]
  },
  {
   "cell_type": "code",
   "execution_count": 23,
   "id": "22f83d41-64cf-4c88-bdd4-56b0a6251969",
   "metadata": {},
   "outputs": [],
   "source": [
    "# Counting the number of values again\n",
    "# ... YOUR CODE FOR TASK 3 ..."
   ]
  },
  {
   "cell_type": "code",
   "execution_count": 24,
   "id": "1b267f88-de49-46df-bcb3-d9434ebc9f0c",
   "metadata": {},
   "outputs": [
    {
     "data": {
      "text/plain": [
       "id                1031\n",
       "market_cap_usd    1031\n",
       "dtype: int64"
      ]
     },
     "execution_count": 24,
     "metadata": {},
     "output_type": "execute_result"
    }
   ],
   "source": [
    "cap.count()"
   ]
  },
  {
   "cell_type": "code",
   "execution_count": 25,
   "id": "028c72cd-0bfe-4c5b-bcc5-483ae22ae861",
   "metadata": {},
   "outputs": [
    {
     "data": {
      "text/plain": [
       "id                0\n",
       "market_cap_usd    0\n",
       "dtype: int64"
      ]
     },
     "execution_count": 25,
     "metadata": {},
     "output_type": "execute_result"
    }
   ],
   "source": [
    "cap.isnull().sum()"
   ]
  },
  {
   "cell_type": "code",
   "execution_count": null,
   "id": "d467fb29-4ef3-4230-bb84-5fa51ae862a6",
   "metadata": {},
   "outputs": [],
   "source": []
  },
  {
   "cell_type": "markdown",
   "id": "93c86f3d-eb85-4ceb-9ada-7fbed88d9436",
   "metadata": {},
   "source": [
    "## 3. How big is Bitcoin compared with the rest of the cryptocurrencies?\n",
    "<p>At the time of writing, Bitcoin is under serious competition from other projects, but it is still dominant in market capitalization. Let's plot the market capitalization for the top 10 coins as a barplot to better visualize this.</p>"
   ]
  },
  {
   "cell_type": "code",
   "execution_count": 26,
   "id": "942e17f1-84c8-481f-baf0-6d156f0587d1",
   "metadata": {},
   "outputs": [
    {
     "data": {
      "text/html": [
       "<div>\n",
       "<style scoped>\n",
       "    .dataframe tbody tr th:only-of-type {\n",
       "        vertical-align: middle;\n",
       "    }\n",
       "\n",
       "    .dataframe tbody tr th {\n",
       "        vertical-align: top;\n",
       "    }\n",
       "\n",
       "    .dataframe thead th {\n",
       "        text-align: right;\n",
       "    }\n",
       "</style>\n",
       "<table border=\"1\" class=\"dataframe\">\n",
       "  <thead>\n",
       "    <tr style=\"text-align: right;\">\n",
       "      <th></th>\n",
       "      <th>market_cap_usd</th>\n",
       "    </tr>\n",
       "    <tr>\n",
       "      <th>id</th>\n",
       "      <th></th>\n",
       "    </tr>\n",
       "  </thead>\n",
       "  <tbody>\n",
       "    <tr>\n",
       "      <th>bitcoin</th>\n",
       "      <td>2.130493e+11</td>\n",
       "    </tr>\n",
       "    <tr>\n",
       "      <th>ethereum</th>\n",
       "      <td>4.352945e+10</td>\n",
       "    </tr>\n",
       "    <tr>\n",
       "      <th>bitcoin-cash</th>\n",
       "      <td>2.529585e+10</td>\n",
       "    </tr>\n",
       "    <tr>\n",
       "      <th>iota</th>\n",
       "      <td>1.475225e+10</td>\n",
       "    </tr>\n",
       "    <tr>\n",
       "      <th>ripple</th>\n",
       "      <td>9.365343e+09</td>\n",
       "    </tr>\n",
       "    <tr>\n",
       "      <th>dash</th>\n",
       "      <td>5.794076e+09</td>\n",
       "    </tr>\n",
       "    <tr>\n",
       "      <th>litecoin</th>\n",
       "      <td>5.634498e+09</td>\n",
       "    </tr>\n",
       "    <tr>\n",
       "      <th>bitcoin-gold</th>\n",
       "      <td>4.920065e+09</td>\n",
       "    </tr>\n",
       "    <tr>\n",
       "      <th>monero</th>\n",
       "      <td>4.331688e+09</td>\n",
       "    </tr>\n",
       "    <tr>\n",
       "      <th>cardano</th>\n",
       "      <td>3.231420e+09</td>\n",
       "    </tr>\n",
       "  </tbody>\n",
       "</table>\n",
       "</div>"
      ],
      "text/plain": [
       "              market_cap_usd\n",
       "id                          \n",
       "bitcoin         2.130493e+11\n",
       "ethereum        4.352945e+10\n",
       "bitcoin-cash    2.529585e+10\n",
       "iota            1.475225e+10\n",
       "ripple          9.365343e+09\n",
       "dash            5.794076e+09\n",
       "litecoin        5.634498e+09\n",
       "bitcoin-gold    4.920065e+09\n",
       "monero          4.331688e+09\n",
       "cardano         3.231420e+09"
      ]
     },
     "metadata": {},
     "output_type": "display_data"
    }
   ],
   "source": [
    "#Declaring these now for later use in the plots\n",
    "TOP_CAP_TITLE = 'Top 10 market capitalization'\n",
    "TOP_CAP_YLABEL = '% of total cap'\n",
    "\n",
    "# Selecting the first 10 rows and setting the index\n",
    "cap10 = cap.head(10).set_index(keys='id')\n",
    "display(cap10)"
   ]
  },
  {
   "cell_type": "code",
   "execution_count": 27,
   "id": "e43df471-ea84-4bb3-ad64-1171ca2b8eea",
   "metadata": {},
   "outputs": [
    {
     "data": {
      "text/html": [
       "<div>\n",
       "<style scoped>\n",
       "    .dataframe tbody tr th:only-of-type {\n",
       "        vertical-align: middle;\n",
       "    }\n",
       "\n",
       "    .dataframe tbody tr th {\n",
       "        vertical-align: top;\n",
       "    }\n",
       "\n",
       "    .dataframe thead th {\n",
       "        text-align: right;\n",
       "    }\n",
       "</style>\n",
       "<table border=\"1\" class=\"dataframe\">\n",
       "  <thead>\n",
       "    <tr style=\"text-align: right;\">\n",
       "      <th></th>\n",
       "      <th>market_cap_usd</th>\n",
       "      <th>market_cap_perc</th>\n",
       "    </tr>\n",
       "    <tr>\n",
       "      <th>id</th>\n",
       "      <th></th>\n",
       "      <th></th>\n",
       "    </tr>\n",
       "  </thead>\n",
       "  <tbody>\n",
       "    <tr>\n",
       "      <th>bitcoin</th>\n",
       "      <td>2.130493e+11</td>\n",
       "      <td>56.918669</td>\n",
       "    </tr>\n",
       "    <tr>\n",
       "      <th>ethereum</th>\n",
       "      <td>4.352945e+10</td>\n",
       "      <td>11.629410</td>\n",
       "    </tr>\n",
       "    <tr>\n",
       "      <th>bitcoin-cash</th>\n",
       "      <td>2.529585e+10</td>\n",
       "      <td>6.758088</td>\n",
       "    </tr>\n",
       "    <tr>\n",
       "      <th>iota</th>\n",
       "      <td>1.475225e+10</td>\n",
       "      <td>3.941238</td>\n",
       "    </tr>\n",
       "    <tr>\n",
       "      <th>ripple</th>\n",
       "      <td>9.365343e+09</td>\n",
       "      <td>2.502063</td>\n",
       "    </tr>\n",
       "    <tr>\n",
       "      <th>dash</th>\n",
       "      <td>5.794076e+09</td>\n",
       "      <td>1.547956</td>\n",
       "    </tr>\n",
       "    <tr>\n",
       "      <th>litecoin</th>\n",
       "      <td>5.634498e+09</td>\n",
       "      <td>1.505323</td>\n",
       "    </tr>\n",
       "    <tr>\n",
       "      <th>bitcoin-gold</th>\n",
       "      <td>4.920065e+09</td>\n",
       "      <td>1.314454</td>\n",
       "    </tr>\n",
       "    <tr>\n",
       "      <th>monero</th>\n",
       "      <td>4.331688e+09</td>\n",
       "      <td>1.157262</td>\n",
       "    </tr>\n",
       "    <tr>\n",
       "      <th>cardano</th>\n",
       "      <td>3.231420e+09</td>\n",
       "      <td>0.863312</td>\n",
       "    </tr>\n",
       "  </tbody>\n",
       "</table>\n",
       "</div>"
      ],
      "text/plain": [
       "              market_cap_usd  market_cap_perc\n",
       "id                                           \n",
       "bitcoin         2.130493e+11        56.918669\n",
       "ethereum        4.352945e+10        11.629410\n",
       "bitcoin-cash    2.529585e+10         6.758088\n",
       "iota            1.475225e+10         3.941238\n",
       "ripple          9.365343e+09         2.502063\n",
       "dash            5.794076e+09         1.547956\n",
       "litecoin        5.634498e+09         1.505323\n",
       "bitcoin-gold    4.920065e+09         1.314454\n",
       "monero          4.331688e+09         1.157262\n",
       "cardano         3.231420e+09         0.863312"
      ]
     },
     "metadata": {},
     "output_type": "display_data"
    }
   ],
   "source": [
    "# Calculating market_cap_perc\n",
    "cap10 = cap10.assign(market_cap_perc = lambda x: (x['market_cap_usd'] / cap['market_cap_usd'].sum()) * 100)\n",
    "display(cap10)"
   ]
  },
  {
   "cell_type": "code",
   "execution_count": 28,
   "id": "9bcafc5e-c50d-44ad-a8d7-916061fd10f2",
   "metadata": {},
   "outputs": [],
   "source": [
    "# cap10.index"
   ]
  },
  {
   "cell_type": "code",
   "execution_count": 29,
   "id": "5482cb74-96f8-4032-ad77-0909026b6a53",
   "metadata": {},
   "outputs": [
    {
     "data": {
      "image/png": "[encoded data removed]",
      "text/plain": [
       "<Figure size 720x360 with 1 Axes>"
      ]
     },
     "metadata": {
      "needs_background": "light"
     },
     "output_type": "display_data"
    }
   ],
   "source": [
    "# Plotting the barplot with the title defined above\n",
    "plt.figure(figsize=(10,5))\n",
    "ax = plt.bar(cap10.index, cap10['market_cap_perc'])\n",
    "# Annotating the y axis with the label defined above\n",
    "# ... YOUR CODE FOR TASK 4 ...\n",
    "plt.title(TOP_CAP_TITLE)\n",
    "plt.ylabel(TOP_CAP_YLABEL)\n",
    "plt.xticks(rotation =45)\n",
    "plt.show()"
   ]
  },
  {
   "cell_type": "code",
   "execution_count": null,
   "id": "2732f65a-7c12-4d67-9493-c5b0f5fadc98",
   "metadata": {},
   "outputs": [],
   "source": []
  },
  {
   "cell_type": "markdown",
   "id": "96e445fd-89da-4fa8-a601-ffce2994ab1a",
   "metadata": {},
   "source": [
    "## 4. Making the plot easier to read and more informative\n",
    "<p>While the plot above is informative enough, it can be improved. Bitcoin is too big, and the other coins are hard to distinguish because of this. Instead of the percentage, let's use a log<sup>10</sup> scale of the \"raw\" capitalization. Plus, let's use color to group similar coins and make the plot more informative<sup>1</sup>. </p>\n",
    "<p>For the colors rationale: bitcoin-cash and bitcoin-gold are forks of the bitcoin <a href=\"https://en.wikipedia.org/wiki/Blockchain\">blockchain</a><sup>2</sup>. Ethereum and Cardano both offer Turing Complete <a href=\"https://en.wikipedia.org/wiki/Smart_contract\">smart contracts</a>. Iota and Ripple are not minable. Dash, Litecoin, and Monero get their own color.</p>\n",
    "<p><sup>1</sup> <em>This coloring is a simplification. There are more differences and similarities that are not being represented here.</em></p>\n",
    "<p><sup>2</sup> <em>The bitcoin forks are actually <strong>very</strong> different, but it is out of scope to talk about them here. Please see the warning above and do your own research.</em></p>"
   ]
  },
  {
   "cell_type": "code",
   "execution_count": 30,
   "id": "5e840823-e22b-4f91-8baf-b7d58c482084",
   "metadata": {},
   "outputs": [
    {
     "data": {
      "image/png": "[encoded data removed]",
      "text/plain": [
       "<Figure size 720x360 with 1 Axes>"
      ]
     },
     "metadata": {
      "needs_background": "light"
     },
     "output_type": "display_data"
    }
   ],
   "source": [
    "# Colors for the bar plot\n",
    "COLORS = ['orange', 'green', 'orange', 'cyan', 'cyan', 'blue', 'silver', 'orange', 'red', 'green']\n",
    "TOP_CAP_YLABEL = 'USD of total cap'\n",
    "# Plotting market_cap_usd as before but adding the colors and scaling the y-axis  \n",
    "plt.figure(figsize=(10,5))\n",
    "ax = plt.bar(cap10.index, cap10['market_cap_usd'], color = COLORS, log = True)\n",
    "\n",
    "# Annotating the y axis with 'USD'\n",
    "# ... YOUR CODE FOR TASK 5 ...\n",
    "plt.ylabel(TOP_CAP_YLABEL)\n",
    "\n",
    "# Final touch! Removing the xlabel as it is not very informative\n",
    "# ... YOUR CODE FOR TASK 5 ...\n",
    "plt.title(TOP_CAP_TITLE)\n",
    "plt.xticks(rotation = 45)\n",
    "plt.show()"
   ]
  },
  {
   "cell_type": "markdown",
   "id": "ddad35e7-6af2-4ddb-9750-c897535ce42f",
   "metadata": {},
   "source": [
    "## 5. What is going on?! Volatility in cryptocurrencies\n",
    "<p>The cryptocurrencies market has been spectacularly volatile since the first exchange opened. This notebook didn't start with a big, bold warning for nothing. Let's explore this volatility a bit more! We will begin by selecting and plotting the 24 hours and 7 days percentage change, which we already have available.</p>"
   ]
  },
  {
   "cell_type": "code",
   "execution_count": 31,
   "id": "54159269-dbd5-4a81-a7bd-f5b5b0d3a94d",
   "metadata": {},
   "outputs": [],
   "source": [
    "# Selecting the id, percent_change_24h and percent_change_7d columns\n",
    "volatility = data[['id','percent_change_24h','percent_change_7d']]"
   ]
  },
  {
   "cell_type": "code",
   "execution_count": 32,
   "id": "d578eddc-e6bc-4fe0-93f2-186d620c82f0",
   "metadata": {},
   "outputs": [
    {
     "data": {
      "text/html": [
       "<div>\n",
       "<style scoped>\n",
       "    .dataframe tbody tr th:only-of-type {\n",
       "        vertical-align: middle;\n",
       "    }\n",
       "\n",
       "    .dataframe tbody tr th {\n",
       "        vertical-align: top;\n",
       "    }\n",
       "\n",
       "    .dataframe thead th {\n",
       "        text-align: right;\n",
       "    }\n",
       "</style>\n",
       "<table border=\"1\" class=\"dataframe\">\n",
       "  <thead>\n",
       "    <tr style=\"text-align: right;\">\n",
       "      <th></th>\n",
       "      <th>percent_change_24h</th>\n",
       "      <th>percent_change_7d</th>\n",
       "    </tr>\n",
       "    <tr>\n",
       "      <th>id</th>\n",
       "      <th></th>\n",
       "      <th></th>\n",
       "    </tr>\n",
       "  </thead>\n",
       "  <tbody>\n",
       "    <tr>\n",
       "      <th>bitcoin</th>\n",
       "      <td>7.33</td>\n",
       "      <td>17.45</td>\n",
       "    </tr>\n",
       "    <tr>\n",
       "      <th>ethereum</th>\n",
       "      <td>-3.93</td>\n",
       "      <td>-7.33</td>\n",
       "    </tr>\n",
       "    <tr>\n",
       "      <th>bitcoin-cash</th>\n",
       "      <td>-5.51</td>\n",
       "      <td>-4.75</td>\n",
       "    </tr>\n",
       "    <tr>\n",
       "      <th>iota</th>\n",
       "      <td>83.35</td>\n",
       "      <td>255.82</td>\n",
       "    </tr>\n",
       "    <tr>\n",
       "      <th>ripple</th>\n",
       "      <td>-3.70</td>\n",
       "      <td>-14.79</td>\n",
       "    </tr>\n",
       "    <tr>\n",
       "      <th>...</th>\n",
       "      <td>...</td>\n",
       "      <td>...</td>\n",
       "    </tr>\n",
       "    <tr>\n",
       "      <th>zsecoin</th>\n",
       "      <td>3.85</td>\n",
       "      <td>-11.44</td>\n",
       "    </tr>\n",
       "    <tr>\n",
       "      <th>tyrocoin</th>\n",
       "      <td>-79.02</td>\n",
       "      <td>-87.43</td>\n",
       "    </tr>\n",
       "    <tr>\n",
       "      <th>birds</th>\n",
       "      <td>10.62</td>\n",
       "      <td>-42.10</td>\n",
       "    </tr>\n",
       "    <tr>\n",
       "      <th>bitcoincashscrypt</th>\n",
       "      <td>-37.39</td>\n",
       "      <td>-27.69</td>\n",
       "    </tr>\n",
       "    <tr>\n",
       "      <th>swisscoin</th>\n",
       "      <td>4.39</td>\n",
       "      <td>-22.84</td>\n",
       "    </tr>\n",
       "  </tbody>\n",
       "</table>\n",
       "<p>1239 rows × 2 columns</p>\n",
       "</div>"
      ],
      "text/plain": [
       "                   percent_change_24h  percent_change_7d\n",
       "id                                                      \n",
       "bitcoin                          7.33              17.45\n",
       "ethereum                        -3.93              -7.33\n",
       "bitcoin-cash                    -5.51              -4.75\n",
       "iota                            83.35             255.82\n",
       "ripple                          -3.70             -14.79\n",
       "...                               ...                ...\n",
       "zsecoin                          3.85             -11.44\n",
       "tyrocoin                       -79.02             -87.43\n",
       "birds                           10.62             -42.10\n",
       "bitcoincashscrypt              -37.39             -27.69\n",
       "swisscoin                        4.39             -22.84\n",
       "\n",
       "[1239 rows x 2 columns]"
      ]
     },
     "metadata": {},
     "output_type": "display_data"
    },
    {
     "data": {
      "text/plain": [
       "percent_change_24h    0\n",
       "percent_change_7d     0\n",
       "dtype: int64"
      ]
     },
     "metadata": {},
     "output_type": "display_data"
    }
   ],
   "source": [
    "# Setting the index to 'id' and dropping all NaN rows\n",
    "volatility = volatility.set_index('id', drop=True)\n",
    "volatility = volatility.dropna()\n",
    "display(volatility, volatility.isnull().sum())\n"
   ]
  },
  {
   "cell_type": "code",
   "execution_count": 33,
   "id": "0006aeb4-877c-4417-b21f-a3170113684a",
   "metadata": {},
   "outputs": [
    {
     "data": {
      "text/html": [
       "<div>\n",
       "<style scoped>\n",
       "    .dataframe tbody tr th:only-of-type {\n",
       "        vertical-align: middle;\n",
       "    }\n",
       "\n",
       "    .dataframe tbody tr th {\n",
       "        vertical-align: top;\n",
       "    }\n",
       "\n",
       "    .dataframe thead th {\n",
       "        text-align: right;\n",
       "    }\n",
       "</style>\n",
       "<table border=\"1\" class=\"dataframe\">\n",
       "  <thead>\n",
       "    <tr style=\"text-align: right;\">\n",
       "      <th></th>\n",
       "      <th>percent_change_24h</th>\n",
       "      <th>percent_change_7d</th>\n",
       "    </tr>\n",
       "    <tr>\n",
       "      <th>id</th>\n",
       "      <th></th>\n",
       "      <th></th>\n",
       "    </tr>\n",
       "  </thead>\n",
       "  <tbody>\n",
       "    <tr>\n",
       "      <th>flappycoin</th>\n",
       "      <td>-95.85</td>\n",
       "      <td>-96.61</td>\n",
       "    </tr>\n",
       "    <tr>\n",
       "      <th>credence-coin</th>\n",
       "      <td>-94.22</td>\n",
       "      <td>-95.31</td>\n",
       "    </tr>\n",
       "    <tr>\n",
       "      <th>coupecoin</th>\n",
       "      <td>-93.93</td>\n",
       "      <td>-61.24</td>\n",
       "    </tr>\n",
       "    <tr>\n",
       "      <th>tyrocoin</th>\n",
       "      <td>-79.02</td>\n",
       "      <td>-87.43</td>\n",
       "    </tr>\n",
       "    <tr>\n",
       "      <th>petrodollar</th>\n",
       "      <td>-76.55</td>\n",
       "      <td>542.96</td>\n",
       "    </tr>\n",
       "    <tr>\n",
       "      <th>bitok</th>\n",
       "      <td>-74.37</td>\n",
       "      <td>-71.67</td>\n",
       "    </tr>\n",
       "    <tr>\n",
       "      <th>bankcoin</th>\n",
       "      <td>-68.56</td>\n",
       "      <td>50.14</td>\n",
       "    </tr>\n",
       "    <tr>\n",
       "      <th>tellurion</th>\n",
       "      <td>-63.75</td>\n",
       "      <td>-52.59</td>\n",
       "    </tr>\n",
       "    <tr>\n",
       "      <th>shadow-token</th>\n",
       "      <td>-61.40</td>\n",
       "      <td>-59.05</td>\n",
       "    </tr>\n",
       "    <tr>\n",
       "      <th>eusd</th>\n",
       "      <td>-58.89</td>\n",
       "      <td>-25.50</td>\n",
       "    </tr>\n",
       "  </tbody>\n",
       "</table>\n",
       "</div>"
      ],
      "text/plain": [
       "               percent_change_24h  percent_change_7d\n",
       "id                                                  \n",
       "flappycoin                 -95.85             -96.61\n",
       "credence-coin              -94.22             -95.31\n",
       "coupecoin                  -93.93             -61.24\n",
       "tyrocoin                   -79.02             -87.43\n",
       "petrodollar                -76.55             542.96\n",
       "bitok                      -74.37             -71.67\n",
       "bankcoin                   -68.56              50.14\n",
       "tellurion                  -63.75             -52.59\n",
       "shadow-token               -61.40             -59.05\n",
       "eusd                       -58.89             -25.50"
      ]
     },
     "metadata": {},
     "output_type": "display_data"
    }
   ],
   "source": [
    "# Sorting the DataFrame by percent_change_24h in ascending order\n",
    "volatility = volatility.sort_values(by = 'percent_change_24h')\n",
    "# Checking the first few rows\n",
    "# ... YOUR CODE FOR TASK 6 ...\n",
    "display(volatility.head(10))"
   ]
  },
  {
   "cell_type": "markdown",
   "id": "9bf6c510-9766-4b20-8dd9-410691dc4ada",
   "metadata": {},
   "source": [
    "## 6. Well, we can already see that things are *a bit* crazy\n",
    "<p>It seems you can lose a lot of money quickly on cryptocurrencies. Let's plot the top 10 biggest gainers and top 10 losers in market capitalization.</p>"
   ]
  },
  {
   "cell_type": "code",
   "execution_count": 34,
   "id": "b3b2988c-1c77-4fa5-a998-3be8d1d92359",
   "metadata": {},
   "outputs": [
    {
     "data": {
      "image/png": "[encoded data removed]",
      "text/plain": [
       "<Figure size 720x432 with 2 Axes>"
      ]
     },
     "metadata": {
      "needs_background": "light"
     },
     "output_type": "display_data"
    }
   ],
   "source": [
    "#Defining a function with 2 parameters, the series to plot and the title\n",
    "def top10_subplot(volatility_series, title):\n",
    "    # Making the subplot and the figure for two side by side plots\n",
    "    fig, axes = plt.subplots(nrows=1, ncols=2, figsize=(10, 6))\n",
    "    \n",
    "    # Plotting with pandas the barchart for the top 10 losers\n",
    "    ax = (volatility_series[:10].plot.bar(color=\"darkred\", ax=axes[0]))\n",
    "    \n",
    "    # Setting the figure's main title to the text passed as parameter\n",
    "    # ... YOUR CODE FOR TASK 7 ...\n",
    "    fig.suptitle(title)\n",
    "    \n",
    "    # Setting the ylabel to '% change'\n",
    "    # ... YOUR CODE FOR TASK 7 ...\n",
    "    ax.set_ylabel('% change')\n",
    "    \n",
    "    # Same as above, but for the top 10 winners\n",
    "    ax = (volatility_series[-10:].plot.bar( color = \"darkblue\", ax = axes[1]))\n",
    "    \n",
    "    # Returning this for good practice, might use later\n",
    "    return fig, ax\n",
    "\n",
    "DTITLE = \"24 hours top losers and winners\"\n",
    "\n",
    "# Calling the function above with the 24 hours period series and title DTITLE  \n",
    "fig, ax = top10_subplot(volatility['percent_change_24h'],DTITLE)"
   ]
  },
  {
   "cell_type": "markdown",
   "id": "17c36002-9f6d-4cd6-a2de-dda4bf1d7ecb",
   "metadata": {
    "tags": []
   },
   "source": [
    "## 7. Ok, those are... interesting. Let's check the weekly Series too.\n",
    "<p>800% daily increase?! Why are we doing this tutorial and not buying random coins?<sup>1</sup></p>\n",
    "<p>After calming down, let's reuse the function defined above to see what is going weekly instead of daily.</p>\n",
    "<p><em><sup>1</sup> Please take a moment to understand the implications of the red plots on how much value some cryptocurrencies lose in such short periods of time</em></p>"
   ]
  },
  {
   "cell_type": "code",
   "execution_count": 35,
   "id": "86068e73-a68b-4515-bdbb-8118e6bdbdba",
   "metadata": {},
   "outputs": [
    {
     "data": {
      "image/png": "[encoded data removed]",
      "text/plain": [
       "<Figure size 720x432 with 2 Axes>"
      ]
     },
     "metadata": {
      "needs_background": "light"
     },
     "output_type": "display_data"
    }
   ],
   "source": [
    "# Sorting in ascending order\n",
    "volatility7d = volatility.sort_values(by = 'percent_change_7d')\n",
    "\n",
    "WTITLE = \"Weekly top losers and winners\"\n",
    "\n",
    "# Calling the top10_subplot function\n",
    "fig, ax = top10_subplot(volatility7d.percent_change_7d,WTITLE)"
   ]
  },
  {
   "cell_type": "markdown",
   "id": "2dfbb0fd-9804-4675-9c97-3e9edd14ea81",
   "metadata": {},
   "source": [
    "## 8. How small is small?\n",
    "<p>The names of the cryptocurrencies above are quite unknown, and there is a considerable fluctuation between the 1 and 7 days percentage changes. As with stocks, and many other financial products, the smaller the capitalization, the bigger the risk and reward. Smaller cryptocurrencies are less stable projects in general, and therefore even riskier investments than the bigger ones<sup>1</sup>. Let's classify our dataset based on Investopedia's capitalization <a href=\"https://www.investopedia.com/video/play/large-cap/\">definitions</a> for company stocks. </p>\n",
    "<p><sup>1</sup> <em>Cryptocurrencies are a new asset class, so they are not directly comparable to stocks. Furthermore, there are no limits set in stone for what a \"small\" or \"large\" stock is. Finally, some investors argue that bitcoin is similar to gold, this would make them more comparable to a <a href=\"https://www.investopedia.com/terms/c/commodity.asp\">commodity</a> instead.</em></p>"
   ]
  },
  {
   "cell_type": "code",
   "execution_count": 36,
   "id": "cff53ddc-57f5-45e6-879a-67aea6910f1f",
   "metadata": {},
   "outputs": [
    {
     "data": {
      "text/html": [
       "<div>\n",
       "<style scoped>\n",
       "    .dataframe tbody tr th:only-of-type {\n",
       "        vertical-align: middle;\n",
       "    }\n",
       "\n",
       "    .dataframe tbody tr th {\n",
       "        vertical-align: top;\n",
       "    }\n",
       "\n",
       "    .dataframe thead th {\n",
       "        text-align: right;\n",
       "    }\n",
       "</style>\n",
       "<table border=\"1\" class=\"dataframe\">\n",
       "  <thead>\n",
       "    <tr style=\"text-align: right;\">\n",
       "      <th></th>\n",
       "      <th>id</th>\n",
       "      <th>market_cap_usd</th>\n",
       "    </tr>\n",
       "  </thead>\n",
       "  <tbody>\n",
       "    <tr>\n",
       "      <th>0</th>\n",
       "      <td>bitcoin</td>\n",
       "      <td>2.130493e+11</td>\n",
       "    </tr>\n",
       "    <tr>\n",
       "      <th>1</th>\n",
       "      <td>ethereum</td>\n",
       "      <td>4.352945e+10</td>\n",
       "    </tr>\n",
       "    <tr>\n",
       "      <th>2</th>\n",
       "      <td>bitcoin-cash</td>\n",
       "      <td>2.529585e+10</td>\n",
       "    </tr>\n",
       "    <tr>\n",
       "      <th>3</th>\n",
       "      <td>iota</td>\n",
       "      <td>1.475225e+10</td>\n",
       "    </tr>\n",
       "    <tr>\n",
       "      <th>4</th>\n",
       "      <td>ripple</td>\n",
       "      <td>9.365343e+09</td>\n",
       "    </tr>\n",
       "    <tr>\n",
       "      <th>...</th>\n",
       "      <td>...</td>\n",
       "      <td>...</td>\n",
       "    </tr>\n",
       "    <tr>\n",
       "      <th>1321</th>\n",
       "      <td>turbocoin</td>\n",
       "      <td>NaN</td>\n",
       "    </tr>\n",
       "    <tr>\n",
       "      <th>1322</th>\n",
       "      <td>birds</td>\n",
       "      <td>NaN</td>\n",
       "    </tr>\n",
       "    <tr>\n",
       "      <th>1323</th>\n",
       "      <td>bitcoincashscrypt</td>\n",
       "      <td>NaN</td>\n",
       "    </tr>\n",
       "    <tr>\n",
       "      <th>1324</th>\n",
       "      <td>swisscoin</td>\n",
       "      <td>NaN</td>\n",
       "    </tr>\n",
       "    <tr>\n",
       "      <th>1325</th>\n",
       "      <td>faceblock</td>\n",
       "      <td>NaN</td>\n",
       "    </tr>\n",
       "  </tbody>\n",
       "</table>\n",
       "<p>1326 rows × 2 columns</p>\n",
       "</div>"
      ],
      "text/plain": [
       "                     id  market_cap_usd\n",
       "0               bitcoin    2.130493e+11\n",
       "1              ethereum    4.352945e+10\n",
       "2          bitcoin-cash    2.529585e+10\n",
       "3                  iota    1.475225e+10\n",
       "4                ripple    9.365343e+09\n",
       "...                 ...             ...\n",
       "1321          turbocoin             NaN\n",
       "1322              birds             NaN\n",
       "1323  bitcoincashscrypt             NaN\n",
       "1324          swisscoin             NaN\n",
       "1325          faceblock             NaN\n",
       "\n",
       "[1326 rows x 2 columns]"
      ]
     },
     "execution_count": 36,
     "metadata": {},
     "output_type": "execute_result"
    }
   ],
   "source": [
    "market_cap_raw"
   ]
  },
  {
   "cell_type": "code",
   "execution_count": 37,
   "id": "216a776a-dcba-4870-97f3-9536c559c9af",
   "metadata": {},
   "outputs": [
    {
     "data": {
      "text/html": [
       "<div>\n",
       "<style scoped>\n",
       "    .dataframe tbody tr th:only-of-type {\n",
       "        vertical-align: middle;\n",
       "    }\n",
       "\n",
       "    .dataframe tbody tr th {\n",
       "        vertical-align: top;\n",
       "    }\n",
       "\n",
       "    .dataframe thead th {\n",
       "        text-align: right;\n",
       "    }\n",
       "</style>\n",
       "<table border=\"1\" class=\"dataframe\">\n",
       "  <thead>\n",
       "    <tr style=\"text-align: right;\">\n",
       "      <th></th>\n",
       "      <th>id</th>\n",
       "      <th>market_cap_usd</th>\n",
       "    </tr>\n",
       "  </thead>\n",
       "  <tbody>\n",
       "    <tr>\n",
       "      <th>0</th>\n",
       "      <td>bitcoin</td>\n",
       "      <td>2.130493e+11</td>\n",
       "    </tr>\n",
       "    <tr>\n",
       "      <th>1</th>\n",
       "      <td>ethereum</td>\n",
       "      <td>4.352945e+10</td>\n",
       "    </tr>\n",
       "    <tr>\n",
       "      <th>2</th>\n",
       "      <td>bitcoin-cash</td>\n",
       "      <td>2.529585e+10</td>\n",
       "    </tr>\n",
       "    <tr>\n",
       "      <th>3</th>\n",
       "      <td>iota</td>\n",
       "      <td>1.475225e+10</td>\n",
       "    </tr>\n",
       "  </tbody>\n",
       "</table>\n",
       "</div>"
      ],
      "text/plain": [
       "             id  market_cap_usd\n",
       "0       bitcoin    2.130493e+11\n",
       "1      ethereum    4.352945e+10\n",
       "2  bitcoin-cash    2.529585e+10\n",
       "3          iota    1.475225e+10"
      ]
     },
     "execution_count": 37,
     "metadata": {},
     "output_type": "execute_result"
    }
   ],
   "source": [
    "# Selecting everything bigger than 10 billion \n",
    "largecaps = market_cap_raw.query('market_cap_usd > 1E+10')\n",
    "\n",
    "# Printing out largecaps\n",
    "# ... YOUR CODE FOR TASK 9 ...\n",
    "largecaps"
   ]
  },
  {
   "cell_type": "markdown",
   "id": "559d8417-3ffa-403c-86a5-48c6e338c5b3",
   "metadata": {},
   "source": [
    "## 9. Most coins are tiny\n",
    "<p>Note that many coins are not comparable to large companies in market cap, so let's divert from the original Investopedia definition by merging categories.</p>\n",
    "<p><em>This is all for now. Thanks for completing this project!</em></p>"
   ]
  },
  {
   "cell_type": "code",
   "execution_count": 38,
   "id": "ee44e7fb-c72a-49de-a3ae-18d9ef5aed25",
   "metadata": {},
   "outputs": [
    {
     "data": {
      "text/plain": [
       "<BarContainer object of 3 artists>"
      ]
     },
     "execution_count": 38,
     "metadata": {},
     "output_type": "execute_result"
    },
    {
     "data": {
      "image/png": "[encoded data removed]",
      "text/plain": [
       "<Figure size 432x288 with 1 Axes>"
      ]
     },
     "metadata": {
      "needs_background": "light"
     },
     "output_type": "display_data"
    }
   ],
   "source": [
    "# Making a nice function for counting different marketcaps from the\n",
    "# \"cap\" DataFrame. Returns an int.\n",
    "# INSTRUCTORS NOTE: Since you made it to the end, consider it a gift :D\n",
    "def capcount(query_string):\n",
    "    return cap.query(query_string).count().id\n",
    "\n",
    "# Labels for the plot\n",
    "LABELS = [\"biggish\", \"micro\", \"nano\"]\n",
    "\n",
    "# Using capcount count the biggish cryptos\n",
    "biggish = capcount('market_cap_usd > 2000000000')\n",
    "\n",
    "# Same as above for micro ...\n",
    "micro = capcount('market_cap_usd >= 50000000 & market_cap_usd < 300000000')\n",
    "\n",
    "# ... and for nano\n",
    "nano =  capcount('market_cap_usd < 50000000')\n",
    "\n",
    "# Making a list with the 3 counts\n",
    "values = [biggish,micro,nano]\n",
    "\n",
    "# Plotting them with matplotlib \n",
    "# ... YOUR CODE FOR TASK 10 ...\n",
    "plt.bar(range(len(values)), values, tick_label=LABELS)"
   ]
  },
  {
   "cell_type": "code",
   "execution_count": null,
   "id": "c71edded-99c5-4178-9aa7-b77fedaf816d",
   "metadata": {},
   "outputs": [],
   "source": []
  },
  {
   "cell_type": "markdown",
   "id": "8434b72e-3a43-41ac-8864-23ba75ddc672",
   "metadata": {},
   "source": [
    "### Happy Learning :)"
   ]
  }
 ],
 "metadata": {
  "kernelspec": {
   "display_name": "Python 3 (ipykernel)",
   "language": "python",
   "name": "python3"
  },
  "language_info": {
   "codemirror_mode": {
    "name": "ipython",
    "version": 3
   },
   "file_extension": ".py",
   "mimetype": "text/x-python",
   "name": "python",
   "nbconvert_exporter": "python",
   "pygments_lexer": "ipython3",
   "version": "3.9.12"
  }
 },
 "nbformat": 4,
 "nbformat_minor": 5
}
